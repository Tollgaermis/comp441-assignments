{
 "cells": [
  {
   "cell_type": "markdown",
   "metadata": {},
   "source": [
    "# Assignment 2: Convolutional Neural Networks\n",
    "Instructions: In Assignment 2, you will learn all about the convolutional neural networks. In particular, you will gain a first-hand experience of the training process, understand the architectural details, and familiarize with transfer learning\n",
    "with deep networks."
   ]
  },
  {
   "cell_type": "markdown",
   "metadata": {},
   "source": [
    "## Part 1: Convolutional Neural Networks\n",
    "In this part, you will experiment with a convolutional neural network implementation to perform image classification. The dataset we will use for this assignment was created by Zoya Bylinskii, and contains 451 works of art from 11 different artists all downsampled and padded to the same size. The task is to identify which artist produced each image. The original images can be found in the `art_data/artists` directory included with the data zip file. The composition of the dataset and a sample painting from each artist are shown in Table 1.\n",
    "\n",
    "Figure 1 shows an example of the type of convolutional architecture typically employed for similar image recognition problems. Convolutional layers apply filters to the image, and produce layers of\n",
    "feature maps. Often, the convolutional layers are interspersed with pooling layers. The final layers of the network are fully connected, and lead to an output layer with one node for each of the K classes\n",
    "the network is trying to detect. We will use a similar architecture for our network.\n",
    "\n",
    "![](figures/figure1.jpg)\n",
    "\n",
    "The code for performing the data processing and training the network is provided in the starter\n",
    "pack. You will use PyTorch to implement convolutional neural networks. We create a dataset from the artists’ images by downsampling them to 50x50 pixels, and transforming the RGB values to lie within the range $[-0.5, 0.5]$. We provide a lot of starter code below, but you will need to modify the hyperparameters and network structure."
   ]
  },
  {
   "cell_type": "markdown",
   "metadata": {},
   "source": [
    "### Part 1.1: Convolutional Filter Receptive Field\n",
    "\n",
    "First, it is important to develop an intuition for how a convolutional layer affects the feature representations that the network learns. Assume that you have a network in which the first convolutional layer\n",
    "applies a 5x5 patch to the image, producing a feature map $Z_{1}$. The next layer of the network is also convolutional; in this case, a 3x3 patch is applied to the feature map $Z_{1}$ to produce a new feature\n",
    "map, $Z_{2}$. Assume the stride used in both cases is 1. Let the receptive field of a node in this network be the portion of the original image that contributes information to the node (that it can, through the filters of the network, “see”). What are the dimensions of the receptive field for a node in $Z_{2}$? Note that you can ignore padding, and just consider patches in the middle of the image and $Z_{1}$. Thinking about your answer, why is it effective to build convolutional networks deeper, i.e. with more layers?"
   ]
  },
  {
   "cell_type": "markdown",
   "metadata": {},
   "source": [
    "**ANSWER**<br>\n",
    "For a node in $Z_{2}$ the receptive field is 7x7. A 7x7 receptive field can be accomplished directly by using a 7x7 filter. But if we do it as explained above or even better with 3 3x3 filters, we will use more non-linear layers and the extracted features will be improved.<br> Also, using a single 7x7 layer, we will need K x (7 x 7 x C) = 49 x K x C parameters where K is the number of filters (or output channels) and C is the number of input channels. Whereas using 3 3x3 filters we will need  3 x (K x (3 x 3 x C)) = 27 x K x C for the same output volume, less that a single convoluional layer with a 7x7 filter."
   ]
  },
  {
   "cell_type": "markdown",
   "metadata": {},
   "source": [
    "### Part 1.2: Run the PyTorch ConvNet\n",
    "\n",
    "Study the provided SimpleCNN class below, and take a look at the hyperparameters. Answer the following questions about the initial implementation:\n",
    "\n",
    "1) How many layers are there? Are they all convolutional? If not, what structure do they have?\n",
    "2) Which activation function is used on the hidden nodes?\n",
    "3) What loss function is being used to train the network?\n",
    "4) How is the loss being minimized?"
   ]
  },
  {
   "cell_type": "markdown",
   "metadata": {},
   "source": [
    "**ANSWER**<br\n",
    "The architecture:<br>\n",
    "CONV -> ReLU -> POOL (?) -> CONV -> RelLU -> ReLU -> POOL (?) -> FC -> ReLU -> FC<br>\n",
    "There are 2 convolutional layers, which are both followed by ReLU activation functions. Depending on the pooling flag, these are followed by pooling. At the end, there are 2 fully connected layers and a ReLU activation function in between.<br>\n",
    "Cross entropy loss is being used in this multiclass classification problem.<br>\n",
    "The loss is being minimized by backpropagation.\n"
   ]
  },
  {
   "cell_type": "markdown",
   "metadata": {},
   "source": [
    "Now that you are familiar with the code, try training the network. It should take between 60-120 seconds to train for 50 epochs. What is the training accuracy for your network after training? What is the validation accuracy? What do these two numbers tell you about what your network is doing?"
   ]
  },
  {
   "cell_type": "code",
   "execution_count": 1,
   "metadata": {},
   "outputs": [],
   "source": [
    "import torch\n",
    "import torch.nn as nn\n",
    "from torch.utils.data import Dataset\n",
    "from PIL import Image, ImageFile\n",
    "import tqdm\n",
    "from torch.nn import CrossEntropyLoss\n",
    "import time\n",
    "import random\n",
    "from torchvision import transforms, utils\n",
    "import numpy as np\n",
    "import os\n",
    "from torch import optim\n",
    "\n",
    "device = torch.device(\"cuda\") if torch.cuda.is_available() else torch.device(\"cpu\")\n",
    "# device = torch.device(\"mps\") if torch.backends.mps.is_available() else torch.device(\"cpu\")"
   ]
  },
  {
   "cell_type": "code",
   "execution_count": 2,
   "metadata": {},
   "outputs": [],
   "source": [
    "class SimpleCNN(torch.nn.Module):\n",
    "    def __init__(self,device,pooling= False):\n",
    "        super(SimpleCNN, self).__init__()\n",
    "        self.device = device\n",
    "        self.pooling = pooling\n",
    "        self.conv_layer1 =  torch.nn.Conv2d(in_channels=3,out_channels=16,kernel_size=5,stride=2, device=device)\n",
    "        self.pool_layer1 = torch.nn.MaxPool2d(kernel_size=2,stride=2)\n",
    "        self.conv_layer2 = torch.nn.Conv2d(in_channels=16,out_channels=16,kernel_size=5,stride=2, device=device)\n",
    "        self.pool_layer2 = torch.nn.MaxPool2d(kernel_size=2,stride=2)\n",
    "        if pooling:\n",
    "            self.fully_connected_layer = nn.Linear(64,64, device=device)\n",
    "            self.dropout = nn.Dropout(p=0.5)\n",
    "            self.final_layer = nn.Linear(64,11, device=device)\n",
    "        else:\n",
    "            self.fully_connected_layer = nn.Linear(1600, 64, device=device)\n",
    "            self.dropout = nn.Dropout(p=0.5)\n",
    "            self.final_layer = nn.Linear(64, 11, device=device)\n",
    "    def forward(self,inp):\n",
    "        x = torch.nn.functional.relu(self.conv_layer1(inp))\n",
    "        if self.pooling:\n",
    "            x = self.pool_layer1(x)\n",
    "        x = torch.nn.functional.relu(self.conv_layer2(x))\n",
    "        if self.pooling:\n",
    "            x = self.pool_layer2(x)\n",
    "        x = x.reshape(x.size(0),-1)\n",
    "        x = torch.nn.functional.relu(self.fully_connected_layer(x))\n",
    "        #x = self.dropout(x)\n",
    "        x = self.final_layer(x)\n",
    "        return x"
   ]
  },
  {
   "cell_type": "code",
   "execution_count": 3,
   "metadata": {},
   "outputs": [],
   "source": [
    "class LoaderClass(Dataset):\n",
    "    def __init__(self,data,labels,phase,transforms):\n",
    "        super(LoaderClass, self).__init__()\n",
    "        self.transforms = transforms\n",
    "        self.labels = labels[phase + \"_labels\"]\n",
    "        self.data = data[phase + \"_data\"]\n",
    "        self.phase = phase\n",
    "\n",
    "    def __len__(self):\n",
    "        return len(self.labels)\n",
    "\n",
    "    def __getitem__(self, idx):\n",
    "        label = self.labels[idx]\n",
    "        img = self.data[idx]\n",
    "        img = Image.fromarray(img)\n",
    "        img = self.transforms(img)\n",
    "        return img,torch.from_numpy(label)"
   ]
  },
  {
   "cell_type": "code",
   "execution_count": 4,
   "metadata": {},
   "outputs": [],
   "source": [
    "class Trainer():\n",
    "    def __init__(self,model,criterion,tr_loader,val_loader,optimizer,\n",
    "                 num_epoch,patience,batch_size,lr_scheduler=None):\n",
    "        self.model = model\n",
    "        self.tr_loader = tr_loader\n",
    "        self.val_loader = val_loader\n",
    "        self.optimizer = optimizer\n",
    "        self.num_epoch = num_epoch\n",
    "        self.patience = patience\n",
    "        self.lr_scheduler = lr_scheduler\n",
    "        self.criterion = criterion\n",
    "        self.softmax = nn.Softmax()\n",
    "        self.no_inc = 0\n",
    "        self.best_loss = 9999\n",
    "        self.phases = [\"train\",\"val\"]\n",
    "        self.best_model = []\n",
    "        self.best_val_acc = 0\n",
    "        self.best_train_acc = 0\n",
    "        self.best_val_loss = 0\n",
    "        self.best_train_loss = 0\n",
    "        self.batch_size = batch_size\n",
    "\n",
    "        pass\n",
    "    def train(self):\n",
    "        pbar = tqdm.tqdm(desc= \"Epoch 0, phase: Train\",postfix=\"train_loss : ?, train_acc: ?\")\n",
    "        for i in range(self.num_epoch):\n",
    "            last_train_acc = 0\n",
    "            last_val_acc = 0\n",
    "            last_val_loss = 0\n",
    "            last_train_loss = 0\n",
    "            pbar.update(1)\n",
    "\n",
    "            for phase in self.phases:\n",
    "                total_acc = 0\n",
    "                total_loss = 0\n",
    "                start = time.time()\n",
    "                if phase == \"train\":\n",
    "                    pbar.set_description_str(\"Epoch %d,\"% i + \"phase: Training\")\n",
    "                    loader = self.tr_loader\n",
    "                    self.model.train()\n",
    "                else:\n",
    "                    pbar.set_description_str(\"Epoch %d,\"% i + \"phase: Validation\")\n",
    "                    loader = self.val_loader\n",
    "                    self.model.eval()\n",
    "                iter = 0\n",
    "                for images,labels in loader:\n",
    "                    iter += 1\n",
    "                    images = images.to(self.model.device)\n",
    "                    labels = labels.to(self.model.device)\n",
    "                    self.optimizer.zero_grad()\n",
    "                    logits = self.model(images)\n",
    "                    softmaxed_scores = self.softmax(logits)\n",
    "                    _, predictions = torch.max(softmaxed_scores,1)\n",
    "                    _, labels = torch.max(labels,1)\n",
    "                    loss = self.criterion(softmaxed_scores.float(),labels.long())\n",
    "                    total_loss += loss.item()\n",
    "                    total_acc += torch.sum(predictions == labels).item()\n",
    "\n",
    "                    if phase == \"train\":\n",
    "                        pbar.set_postfix_str(\"train acc: %6.3f,\" %(total_acc/ (iter*self.batch_size)) + (\"train loss: %6.3f\" % (total_loss / iter)))\n",
    "                        loss.backward()\n",
    "                        self.optimizer.step()\n",
    "                    else:\n",
    "                        pbar.set_postfix_str(\"val acc: %6.3f,\" %(total_acc/ (iter*self.batch_size)) + (\"val loss: %6.3f\" % (total_loss / iter)))\n",
    "\n",
    "\n",
    "                if phase == \"train\":\n",
    "                    if self.lr_scheduler:\n",
    "\n",
    "                        self.lr_scheduler.step()\n",
    "                end = time.time()\n",
    "                if phase == \"train\":\n",
    "                    loss_p = total_loss / iter\n",
    "                    acc_p = total_acc / len(self.tr_loader.dataset)\n",
    "                    last_train_acc = acc_p\n",
    "                    last_train_loss = loss_p\n",
    "                else:\n",
    "                    loss_p = total_loss / iter\n",
    "                    acc_p = total_acc / len(self.val_loader.dataset)\n",
    "                    last_val_acc = acc_p\n",
    "                    last_val_loss = loss_p\n",
    "\n",
    "                    if loss_p < self.best_loss:\n",
    "                        print(\"New best loss, loss is: \",str(loss_p), \"acc is: \",acc_p )\n",
    "                        self.best_loss = loss_p\n",
    "                        self.no_inc = 0\n",
    "                        self.best_model = self.model\n",
    "                        self.best_train_acc = last_train_acc\n",
    "                        self.best_train_loss = last_train_loss\n",
    "                        self.best_val_loss = last_val_loss\n",
    "                        self.best_val_acc = last_val_acc\n",
    "                    else:\n",
    "                        print(\"Not a better score\")\n",
    "\n",
    "\n",
    "                        self.no_inc += 1\n",
    "                        if self.no_inc == self.patience:\n",
    "                            print(\"Out of patience returning the best model\")\n",
    "                            print(\n",
    "                                \"Best val acc: {}, Best val loss: {}, Best train acc: {}, Best train loss: {} \".format(\n",
    "                                    self.best_val_acc, self.best_val_loss, self.best_train_acc, self.best_train_loss\n",
    "                                ))  # Stats of the best model\n",
    "                            return self.best_model\n",
    "        print(\"Training ended returning the best model\")\n",
    "        print(\n",
    "            \"Best val acc: {}, Best val loss: {}, Best train acc: {}, Best train loss: {} \".format(\n",
    "                self.best_val_acc, self.best_val_loss, self.best_train_acc, self.best_train_loss\n",
    "            ))  # Stats of the best model\n",
    "        return self.best_model"
   ]
  },
  {
   "cell_type": "code",
   "execution_count": 5,
   "metadata": {},
   "outputs": [],
   "source": [
    "LR = 1e-4\n",
    "Momentum = 0.9 # If you use SGD with momentum\n",
    "BATCH_SIZE = 16\n",
    "POOLING = False\n",
    "NUM_EPOCHS = 200\n",
    "PATIENCE = -1\n",
    "TRAIN_PERCENT = 0.8\n",
    "VAL_PERCENT = 0.2\n",
    "NUM_ARTISTS = 11\n",
    "DATA_PATH = \"./art_data/artists\"\n",
    "ImageFile.LOAD_TRUNCATED_IMAGES = True # Do not change this"
   ]
  },
  {
   "cell_type": "code",
   "execution_count": 6,
   "metadata": {},
   "outputs": [],
   "source": [
    "def seed_everything(seed):\n",
    "    random.seed(seed)\n",
    "    os.environ['PYTHONHASHSEED'] = str(seed)\n",
    "    np.random.seed(seed)\n",
    "    torch.manual_seed(seed)\n",
    "    torch.cuda.manual_seed(seed)\n",
    "    torch.backends.cudnn.deterministic = True\n",
    "    torch.backends.cudnn.benchmark = True"
   ]
  },
  {
   "cell_type": "code",
   "execution_count": 7,
   "metadata": {},
   "outputs": [],
   "source": [
    "def load_artist_data():\n",
    "    data = []\n",
    "    labels = []\n",
    "    artists = [x for x in os.listdir(DATA_PATH) if x != '.DS_Store']\n",
    "    print(artists)\n",
    "    for folder in os.listdir(DATA_PATH):\n",
    "        class_index = artists.index(folder)\n",
    "        for image_name in os.listdir(DATA_PATH + \"/\" + folder):\n",
    "            img = Image.open(DATA_PATH + \"/\" + folder + \"/\" + image_name)\n",
    "            artist_label = (np.arange(NUM_ARTISTS) == class_index).astype(np.float32)\n",
    "            data.append(np.array(img))\n",
    "            labels.append(artist_label)\n",
    "    shuffler = np.random.permutation(len(labels))\n",
    "    data = np.array(data)[shuffler]\n",
    "    labels = np.array(labels)[shuffler]\n",
    "\n",
    "    length = len(data)\n",
    "    val_size = int(length*0.2)\n",
    "    val_data = data[0:val_size+1]\n",
    "    train_data = data[val_size+1::]\n",
    "    val_labels = labels[0:val_size+1]\n",
    "    train_labels = labels[val_size+1::]\n",
    "    print(val_labels)\n",
    "    data_dict = {\"train_data\":train_data,\"val_data\":val_data}\n",
    "    label_dict = {\"train_labels\":np.array(train_labels),\"val_labels\":np.array(val_labels)}\n",
    "\n",
    "    return data_dict,label_dict"
   ]
  },
  {
   "cell_type": "code",
   "execution_count": 8,
   "metadata": {},
   "outputs": [
    {
     "name": "stdout",
     "output_type": "stream",
     "text": [
      "['canaletto', 'claude monet', 'george romney', 'j. m. w. turner', 'john robert cozens', 'paul cezanne', 'paul gauguin', 'paul sandby', 'peter paul rubens', 'rembrandt', 'richard wilson']\n",
      "[[0. 0. 0. ... 0. 0. 0.]\n",
      " [0. 1. 0. ... 0. 0. 0.]\n",
      " [0. 0. 0. ... 0. 0. 0.]\n",
      " ...\n",
      " [0. 0. 1. ... 0. 0. 0.]\n",
      " [0. 1. 0. ... 0. 0. 0.]\n",
      " [0. 0. 0. ... 0. 1. 0.]]\n"
     ]
    }
   ],
   "source": [
    "seed_everything(42)\n",
    "data,labels = load_artist_data()\n",
    "model = SimpleCNN(device=device,pooling=False)\n",
    "optimizer = optim.Adam(model.parameters(), lr=LR)\n",
    "transform = {\n",
    "    'train': transforms.Compose([\n",
    "        transforms.Resize(50),\n",
    "        transforms.ToTensor(),\n",
    "        transforms.Normalize([0.485, 0.456, 0.406], [0.229, 0.224, 0.225])\n",
    "    ]),\n",
    "    'val': transforms.Compose([\n",
    "        transforms.Resize(50),\n",
    "        transforms.ToTensor(),\n",
    "        transforms.Normalize([0.485, 0.456, 0.406], [0.229, 0.224, 0.225])\n",
    "    ]),\n",
    "    }"
   ]
  },
  {
   "cell_type": "code",
   "execution_count": 11,
   "metadata": {},
   "outputs": [],
   "source": [
    "train_dataset = LoaderClass(data,labels,\"train\",transform[\"train\"])\n",
    "valid_dataset = LoaderClass(data,labels,\"val\",transform[\"val\"])\n",
    "train_loader = torch.utils.data.DataLoader(train_dataset,\n",
    "                                               batch_size=BATCH_SIZE,\n",
    "                                               shuffle=True, num_workers=0, pin_memory=True)\n",
    "val_loader = torch.utils.data.DataLoader(valid_dataset,\n",
    "                                             batch_size=BATCH_SIZE,\n",
    "                                             shuffle=True, num_workers=0, pin_memory=True)\n"
   ]
  },
  {
   "cell_type": "code",
   "execution_count": 12,
   "metadata": {},
   "outputs": [],
   "source": [
    "criterion = nn.CrossEntropyLoss()"
   ]
  },
  {
   "cell_type": "code",
   "execution_count": 13,
   "metadata": {},
   "outputs": [
    {
     "name": "stderr",
     "output_type": "stream",
     "text": [
      "Epoch 0,phase: Training: 1it [00:00, ?it/s, train_loss : ?, train_acc: ?]C:\\Users\\Tolga\\anaconda3\\envs\\comp541\\lib\\site-packages\\ipykernel_launcher.py:52: UserWarning: Implicit dimension choice for softmax has been deprecated. Change the call to include dim=X as an argument.\n",
      "Epoch 1,phase: Training: 2it [00:00,  4.61it/s, train acc:  0.255,train loss:  2.366]  "
     ]
    },
    {
     "name": "stdout",
     "output_type": "stream",
     "text": [
      "New best loss, loss is:  2.3737993637720742 acc is:  0.18681318681318682\n"
     ]
    },
    {
     "name": "stderr",
     "output_type": "stream",
     "text": [
      "Epoch 2,phase: Training: 3it [00:01,  3.40it/s, train acc:  0.353,train loss:  2.234]  "
     ]
    },
    {
     "name": "stdout",
     "output_type": "stream",
     "text": [
      "New best loss, loss is:  2.265027324358622 acc is:  0.31868131868131866\n"
     ]
    },
    {
     "name": "stderr",
     "output_type": "stream",
     "text": [
      "Epoch 3,phase: Training: 4it [00:01,  3.06it/s, train acc:  0.288,train loss:  2.223]  "
     ]
    },
    {
     "name": "stdout",
     "output_type": "stream",
     "text": [
      "New best loss, loss is:  2.1992594401041665 acc is:  0.34065934065934067\n"
     ]
    },
    {
     "name": "stderr",
     "output_type": "stream",
     "text": [
      "Epoch 4,phase: Training: 5it [00:01,  2.86it/s, train acc:  0.418,train loss:  2.130]  "
     ]
    },
    {
     "name": "stdout",
     "output_type": "stream",
     "text": [
      "New best loss, loss is:  2.176307201385498 acc is:  0.32967032967032966\n"
     ]
    },
    {
     "name": "stderr",
     "output_type": "stream",
     "text": [
      "Epoch 5,phase: Training: 6it [00:02,  2.72it/s, train acc:  0.481,train loss:  2.072]  "
     ]
    },
    {
     "name": "stdout",
     "output_type": "stream",
     "text": [
      "Not a better score\n"
     ]
    },
    {
     "name": "stderr",
     "output_type": "stream",
     "text": [
      "Epoch 6,phase: Training: 7it [00:02,  2.57it/s, train acc:  0.504,train loss:  2.061]  "
     ]
    },
    {
     "name": "stdout",
     "output_type": "stream",
     "text": [
      "Not a better score\n"
     ]
    },
    {
     "name": "stderr",
     "output_type": "stream",
     "text": [
      "Epoch 7,phase: Training: 8it [00:03,  2.57it/s, train acc:  0.536,train loss:  2.055]  "
     ]
    },
    {
     "name": "stdout",
     "output_type": "stream",
     "text": [
      "New best loss, loss is:  2.154374440511068 acc is:  0.3626373626373626\n"
     ]
    },
    {
     "name": "stderr",
     "output_type": "stream",
     "text": [
      "Epoch 8,phase: Training: 9it [00:03,  2.62it/s, train acc:  0.500,train loss:  2.061]  "
     ]
    },
    {
     "name": "stdout",
     "output_type": "stream",
     "text": [
      "Not a better score\n"
     ]
    },
    {
     "name": "stderr",
     "output_type": "stream",
     "text": [
      "Epoch 9,phase: Training: 10it [00:03,  2.68it/s, train acc:  0.500,train loss:  2.048] "
     ]
    },
    {
     "name": "stdout",
     "output_type": "stream",
     "text": [
      "Not a better score\n"
     ]
    },
    {
     "name": "stderr",
     "output_type": "stream",
     "text": [
      "Epoch 10,phase: Training: 11it [00:04,  2.74it/s, train acc:  0.567,train loss:  2.001] "
     ]
    },
    {
     "name": "stdout",
     "output_type": "stream",
     "text": [
      "Not a better score\n"
     ]
    },
    {
     "name": "stderr",
     "output_type": "stream",
     "text": [
      "Epoch 11,phase: Training: 12it [00:04,  2.73it/s, train acc:  0.558,train loss:  1.997]  "
     ]
    },
    {
     "name": "stdout",
     "output_type": "stream",
     "text": [
      "New best loss, loss is:  2.1323689421017966 acc is:  0.3956043956043956\n"
     ]
    },
    {
     "name": "stderr",
     "output_type": "stream",
     "text": [
      "Epoch 12,phase: Training: 13it [00:04,  2.69it/s, train acc:  0.591,train loss:  1.971]  "
     ]
    },
    {
     "name": "stdout",
     "output_type": "stream",
     "text": [
      "New best loss, loss is:  2.127723137537638 acc is:  0.4065934065934066\n"
     ]
    },
    {
     "name": "stderr",
     "output_type": "stream",
     "text": [
      "Epoch 13,phase: Training: 14it [00:05,  2.67it/s, train acc:  0.621,train loss:  1.955]  "
     ]
    },
    {
     "name": "stdout",
     "output_type": "stream",
     "text": [
      "New best loss, loss is:  2.1123339533805847 acc is:  0.4065934065934066\n"
     ]
    },
    {
     "name": "stderr",
     "output_type": "stream",
     "text": [
      "Epoch 14,phase: Training: 15it [00:05,  2.68it/s, train acc:  0.620,train loss:  1.948]  "
     ]
    },
    {
     "name": "stdout",
     "output_type": "stream",
     "text": [
      "New best loss, loss is:  2.1123239596684775 acc is:  0.4065934065934066\n"
     ]
    },
    {
     "name": "stderr",
     "output_type": "stream",
     "text": [
      "Epoch 15,phase: Training: 16it [00:05,  2.70it/s, train acc:  0.608,train loss:  1.961]  "
     ]
    },
    {
     "name": "stdout",
     "output_type": "stream",
     "text": [
      "New best loss, loss is:  2.096355060736338 acc is:  0.43956043956043955\n"
     ]
    },
    {
     "name": "stderr",
     "output_type": "stream",
     "text": [
      "Epoch 16,phase: Training: 17it [00:06,  2.72it/s, train acc:  0.617,train loss:  1.963]  "
     ]
    },
    {
     "name": "stdout",
     "output_type": "stream",
     "text": [
      "Not a better score\n"
     ]
    },
    {
     "name": "stderr",
     "output_type": "stream",
     "text": [
      "Epoch 17,phase: Training: 18it [00:06,  2.69it/s, train acc:  0.654,train loss:  1.913]  "
     ]
    },
    {
     "name": "stdout",
     "output_type": "stream",
     "text": [
      "Not a better score\n"
     ]
    },
    {
     "name": "stderr",
     "output_type": "stream",
     "text": [
      "Epoch 18,phase: Training: 19it [00:07,  2.65it/s, train acc:  0.644,train loss:  1.928]  "
     ]
    },
    {
     "name": "stdout",
     "output_type": "stream",
     "text": [
      "Not a better score\n"
     ]
    },
    {
     "name": "stderr",
     "output_type": "stream",
     "text": [
      "Epoch 19,phase: Training: 20it [00:07,  2.61it/s, train acc:  0.617,train loss:  1.943]  "
     ]
    },
    {
     "name": "stdout",
     "output_type": "stream",
     "text": [
      "Not a better score\n"
     ]
    },
    {
     "name": "stderr",
     "output_type": "stream",
     "text": [
      "Epoch 20,phase: Training: 21it [00:07,  2.67it/s, train acc:  0.683,train loss:  1.896]  "
     ]
    },
    {
     "name": "stdout",
     "output_type": "stream",
     "text": [
      "New best loss, loss is:  2.0849414666493735 acc is:  0.43956043956043955\n"
     ]
    },
    {
     "name": "stderr",
     "output_type": "stream",
     "text": [
      "Epoch 21,phase: Training: 22it [00:08,  2.66it/s, train acc:  0.652,train loss:  1.913]  "
     ]
    },
    {
     "name": "stdout",
     "output_type": "stream",
     "text": [
      "Not a better score\n"
     ]
    },
    {
     "name": "stderr",
     "output_type": "stream",
     "text": [
      "Epoch 22,phase: Training: 23it [00:08,  2.65it/s, train acc:  0.635,train loss:  1.925]  "
     ]
    },
    {
     "name": "stdout",
     "output_type": "stream",
     "text": [
      "Not a better score\n"
     ]
    },
    {
     "name": "stderr",
     "output_type": "stream",
     "text": [
      "Epoch 23,phase: Training: 24it [00:09,  2.59it/s, train acc:  0.635,train loss:  1.931]  "
     ]
    },
    {
     "name": "stdout",
     "output_type": "stream",
     "text": [
      "Not a better score\n"
     ]
    },
    {
     "name": "stderr",
     "output_type": "stream",
     "text": [
      "Epoch 24,phase: Training: 25it [00:09,  2.58it/s, train acc:  0.642,train loss:  1.912]  "
     ]
    },
    {
     "name": "stdout",
     "output_type": "stream",
     "text": [
      "New best loss, loss is:  2.0650925834973655 acc is:  0.45054945054945056\n"
     ]
    },
    {
     "name": "stderr",
     "output_type": "stream",
     "text": [
      "Epoch 25,phase: Training: 26it [00:09,  2.62it/s, train acc:  0.607,train loss:  1.941]  "
     ]
    },
    {
     "name": "stdout",
     "output_type": "stream",
     "text": [
      "Not a better score\n"
     ]
    },
    {
     "name": "stderr",
     "output_type": "stream",
     "text": [
      "Epoch 26,phase: Training: 27it [00:10,  2.67it/s, train acc:  0.661,train loss:  1.901]  "
     ]
    },
    {
     "name": "stdout",
     "output_type": "stream",
     "text": [
      "Not a better score\n"
     ]
    },
    {
     "name": "stderr",
     "output_type": "stream",
     "text": [
      "Epoch 27,phase: Training: 28it [00:10,  2.67it/s, train acc:  0.625,train loss:  1.919]  "
     ]
    },
    {
     "name": "stdout",
     "output_type": "stream",
     "text": [
      "Not a better score\n"
     ]
    },
    {
     "name": "stderr",
     "output_type": "stream",
     "text": [
      "Epoch 28,phase: Training: 29it [00:10,  2.65it/s, train acc:  0.625,train loss:  1.937]  "
     ]
    },
    {
     "name": "stdout",
     "output_type": "stream",
     "text": [
      "Not a better score\n"
     ]
    },
    {
     "name": "stderr",
     "output_type": "stream",
     "text": [
      "Epoch 29,phase: Training: 30it [00:11,  2.58it/s, train acc:  0.683,train loss:  1.883]  "
     ]
    },
    {
     "name": "stdout",
     "output_type": "stream",
     "text": [
      "Not a better score\n"
     ]
    },
    {
     "name": "stderr",
     "output_type": "stream",
     "text": [
      "Epoch 30,phase: Training: 31it [00:11,  2.61it/s, train acc:  0.638,train loss:  1.913]  "
     ]
    },
    {
     "name": "stdout",
     "output_type": "stream",
     "text": [
      "Not a better score\n"
     ]
    },
    {
     "name": "stderr",
     "output_type": "stream",
     "text": [
      "Epoch 31,phase: Training: 32it [00:12,  2.61it/s, train acc:  0.625,train loss:  1.926]  "
     ]
    },
    {
     "name": "stdout",
     "output_type": "stream",
     "text": [
      "Not a better score\n"
     ]
    },
    {
     "name": "stderr",
     "output_type": "stream",
     "text": [
      "Epoch 32,phase: Training: 33it [00:12,  2.64it/s, train acc:  0.659,train loss:  1.899]  "
     ]
    },
    {
     "name": "stdout",
     "output_type": "stream",
     "text": [
      "Not a better score\n"
     ]
    },
    {
     "name": "stderr",
     "output_type": "stream",
     "text": [
      "Epoch 33,phase: Training: 34it [00:12,  2.59it/s, train acc:  0.642,train loss:  1.910]  "
     ]
    },
    {
     "name": "stdout",
     "output_type": "stream",
     "text": [
      "New best loss, loss is:  2.062154173851013 acc is:  0.4725274725274725\n"
     ]
    },
    {
     "name": "stderr",
     "output_type": "stream",
     "text": [
      "Epoch 34,phase: Training: 35it [00:13,  2.61it/s, train acc:  0.649,train loss:  1.899]  "
     ]
    },
    {
     "name": "stdout",
     "output_type": "stream",
     "text": [
      "Not a better score\n"
     ]
    },
    {
     "name": "stderr",
     "output_type": "stream",
     "text": [
      "Epoch 35,phase: Training: 36it [00:13,  2.62it/s, train acc:  0.670,train loss:  1.889]  "
     ]
    },
    {
     "name": "stdout",
     "output_type": "stream",
     "text": [
      "Not a better score\n"
     ]
    },
    {
     "name": "stderr",
     "output_type": "stream",
     "text": [
      "Epoch 36,phase: Training: 37it [00:13,  2.66it/s, train acc:  0.710,train loss:  1.851]  "
     ]
    },
    {
     "name": "stdout",
     "output_type": "stream",
     "text": [
      "Not a better score\n"
     ]
    },
    {
     "name": "stderr",
     "output_type": "stream",
     "text": [
      "Epoch 37,phase: Training: 38it [00:14,  2.69it/s, train acc:  0.651,train loss:  1.905]  "
     ]
    },
    {
     "name": "stdout",
     "output_type": "stream",
     "text": [
      "Not a better score\n"
     ]
    },
    {
     "name": "stderr",
     "output_type": "stream",
     "text": [
      "Epoch 38,phase: Training: 39it [00:14,  2.65it/s, train acc:  0.672,train loss:  1.880]  "
     ]
    },
    {
     "name": "stdout",
     "output_type": "stream",
     "text": [
      "New best loss, loss is:  2.047486503918966 acc is:  0.4835164835164835\n"
     ]
    },
    {
     "name": "stderr",
     "output_type": "stream",
     "text": [
      "Epoch 39,phase: Training: 40it [00:15,  2.72it/s, train acc:  0.672,train loss:  1.891]  "
     ]
    },
    {
     "name": "stdout",
     "output_type": "stream",
     "text": [
      "Not a better score\n"
     ]
    },
    {
     "name": "stderr",
     "output_type": "stream",
     "text": [
      "Epoch 40,phase: Training: 41it [00:15,  2.66it/s, train acc:  0.659,train loss:  1.895]  "
     ]
    },
    {
     "name": "stdout",
     "output_type": "stream",
     "text": [
      "Not a better score\n"
     ]
    },
    {
     "name": "stderr",
     "output_type": "stream",
     "text": [
      "Epoch 41,phase: Training: 42it [00:15,  2.62it/s, train acc:  0.707,train loss:  1.857]  "
     ]
    },
    {
     "name": "stdout",
     "output_type": "stream",
     "text": [
      "Not a better score\n"
     ]
    },
    {
     "name": "stderr",
     "output_type": "stream",
     "text": [
      "Epoch 42,phase: Training: 43it [00:16,  2.69it/s, train acc:  0.676,train loss:  1.878]  "
     ]
    },
    {
     "name": "stdout",
     "output_type": "stream",
     "text": [
      "Not a better score\n"
     ]
    },
    {
     "name": "stderr",
     "output_type": "stream",
     "text": [
      "Epoch 43,phase: Training: 44it [00:16,  2.79it/s, train acc:  0.679,train loss:  1.877]  "
     ]
    },
    {
     "name": "stdout",
     "output_type": "stream",
     "text": [
      "Not a better score\n"
     ]
    },
    {
     "name": "stderr",
     "output_type": "stream",
     "text": [
      "Epoch 44,phase: Training: 45it [00:16,  2.82it/s, train acc:  0.634,train loss:  1.913]  "
     ]
    },
    {
     "name": "stdout",
     "output_type": "stream",
     "text": [
      "Not a better score\n"
     ]
    },
    {
     "name": "stderr",
     "output_type": "stream",
     "text": [
      "Epoch 45,phase: Training: 46it [00:17,  2.73it/s, train acc:  0.697,train loss:  1.858]  "
     ]
    },
    {
     "name": "stdout",
     "output_type": "stream",
     "text": [
      "Not a better score\n"
     ]
    },
    {
     "name": "stderr",
     "output_type": "stream",
     "text": [
      "Epoch 46,phase: Training: 47it [00:17,  2.70it/s, train acc:  0.688,train loss:  1.865]  "
     ]
    },
    {
     "name": "stdout",
     "output_type": "stream",
     "text": [
      "Not a better score\n"
     ]
    },
    {
     "name": "stderr",
     "output_type": "stream",
     "text": [
      "Epoch 47,phase: Training: 48it [00:17,  2.74it/s, train acc:  0.695,train loss:  1.857]  "
     ]
    },
    {
     "name": "stdout",
     "output_type": "stream",
     "text": [
      "Not a better score\n"
     ]
    },
    {
     "name": "stderr",
     "output_type": "stream",
     "text": [
      "Epoch 48,phase: Training: 49it [00:18,  2.82it/s, train acc:  0.699,train loss:  1.867]  "
     ]
    },
    {
     "name": "stdout",
     "output_type": "stream",
     "text": [
      "Not a better score\n"
     ]
    },
    {
     "name": "stderr",
     "output_type": "stream",
     "text": [
      "Epoch 49,phase: Training: 50it [00:18,  2.88it/s, train acc:  0.696,train loss:  1.867]  "
     ]
    },
    {
     "name": "stdout",
     "output_type": "stream",
     "text": [
      "Not a better score\n"
     ]
    },
    {
     "name": "stderr",
     "output_type": "stream",
     "text": [
      "Epoch 50,phase: Training: 51it [00:19,  2.84it/s, train acc:  0.696,train loss:  1.863]  "
     ]
    },
    {
     "name": "stdout",
     "output_type": "stream",
     "text": [
      "Not a better score\n"
     ]
    },
    {
     "name": "stderr",
     "output_type": "stream",
     "text": [
      "Epoch 51,phase: Training: 52it [00:19,  2.77it/s, train acc:  0.697,train loss:  1.857]  "
     ]
    },
    {
     "name": "stdout",
     "output_type": "stream",
     "text": [
      "Not a better score\n"
     ]
    },
    {
     "name": "stderr",
     "output_type": "stream",
     "text": [
      "Epoch 52,phase: Training: 53it [00:19,  2.71it/s, train acc:  0.719,train loss:  1.841]  "
     ]
    },
    {
     "name": "stdout",
     "output_type": "stream",
     "text": [
      "Not a better score\n"
     ]
    },
    {
     "name": "stderr",
     "output_type": "stream",
     "text": [
      "Epoch 53,phase: Training: 54it [00:20,  2.75it/s, train acc:  0.705,train loss:  1.850]  "
     ]
    },
    {
     "name": "stdout",
     "output_type": "stream",
     "text": [
      "Not a better score\n"
     ]
    },
    {
     "name": "stderr",
     "output_type": "stream",
     "text": [
      "Epoch 54,phase: Training: 55it [00:20,  2.74it/s, train acc:  0.665,train loss:  1.883]  "
     ]
    },
    {
     "name": "stdout",
     "output_type": "stream",
     "text": [
      "Not a better score\n"
     ]
    },
    {
     "name": "stderr",
     "output_type": "stream",
     "text": [
      "Epoch 55,phase: Training: 56it [00:20,  2.73it/s, train acc:  0.670,train loss:  1.888]  "
     ]
    },
    {
     "name": "stdout",
     "output_type": "stream",
     "text": [
      "Not a better score\n"
     ]
    },
    {
     "name": "stderr",
     "output_type": "stream",
     "text": [
      "Epoch 56,phase: Training: 57it [00:21,  2.71it/s, train acc:  0.726,train loss:  1.832]  "
     ]
    },
    {
     "name": "stdout",
     "output_type": "stream",
     "text": [
      "Not a better score\n"
     ]
    },
    {
     "name": "stderr",
     "output_type": "stream",
     "text": [
      "Epoch 57,phase: Training: 58it [00:21,  2.72it/s, train acc:  0.729,train loss:  1.824]  "
     ]
    },
    {
     "name": "stdout",
     "output_type": "stream",
     "text": [
      "Not a better score\n"
     ]
    },
    {
     "name": "stderr",
     "output_type": "stream",
     "text": [
      "Epoch 58,phase: Training: 59it [00:21,  2.80it/s, train acc:  0.700,train loss:  1.854]  "
     ]
    },
    {
     "name": "stdout",
     "output_type": "stream",
     "text": [
      "Not a better score\n"
     ]
    },
    {
     "name": "stderr",
     "output_type": "stream",
     "text": [
      "Epoch 59,phase: Training: 60it [00:22,  2.82it/s, train acc:  0.696,train loss:  1.852]  "
     ]
    },
    {
     "name": "stdout",
     "output_type": "stream",
     "text": [
      "Not a better score\n"
     ]
    },
    {
     "name": "stderr",
     "output_type": "stream",
     "text": [
      "Epoch 60,phase: Training: 61it [00:22,  2.81it/s, train acc:  0.701,train loss:  1.855]  "
     ]
    },
    {
     "name": "stdout",
     "output_type": "stream",
     "text": [
      "Not a better score\n"
     ]
    },
    {
     "name": "stderr",
     "output_type": "stream",
     "text": [
      "Epoch 61,phase: Training: 62it [00:23,  2.75it/s, train acc:  0.724,train loss:  1.825]  "
     ]
    },
    {
     "name": "stdout",
     "output_type": "stream",
     "text": [
      "Not a better score\n"
     ]
    },
    {
     "name": "stderr",
     "output_type": "stream",
     "text": [
      "Epoch 62,phase: Training: 63it [00:23,  2.69it/s, train acc:  0.714,train loss:  1.835]  "
     ]
    },
    {
     "name": "stdout",
     "output_type": "stream",
     "text": [
      "Not a better score\n"
     ]
    },
    {
     "name": "stderr",
     "output_type": "stream",
     "text": [
      "Epoch 63,phase: Training: 64it [00:23,  2.68it/s, train acc:  0.729,train loss:  1.824]  "
     ]
    },
    {
     "name": "stdout",
     "output_type": "stream",
     "text": [
      "Not a better score\n"
     ]
    },
    {
     "name": "stderr",
     "output_type": "stream",
     "text": [
      "Epoch 64,phase: Training: 65it [00:24,  2.73it/s, train acc:  0.728,train loss:  1.821]  "
     ]
    },
    {
     "name": "stdout",
     "output_type": "stream",
     "text": [
      "Not a better score\n"
     ]
    },
    {
     "name": "stderr",
     "output_type": "stream",
     "text": [
      "Epoch 65,phase: Training: 66it [00:24,  2.75it/s, train acc:  0.742,train loss:  1.816]  "
     ]
    },
    {
     "name": "stdout",
     "output_type": "stream",
     "text": [
      "Not a better score\n"
     ]
    },
    {
     "name": "stderr",
     "output_type": "stream",
     "text": [
      "Epoch 66,phase: Training: 67it [00:24,  2.80it/s, train acc:  0.711,train loss:  1.838]  "
     ]
    },
    {
     "name": "stdout",
     "output_type": "stream",
     "text": [
      "Not a better score\n"
     ]
    },
    {
     "name": "stderr",
     "output_type": "stream",
     "text": [
      "Epoch 67,phase: Training: 68it [00:25,  2.83it/s, train acc:  0.742,train loss:  1.808]  "
     ]
    },
    {
     "name": "stdout",
     "output_type": "stream",
     "text": [
      "Not a better score\n"
     ]
    },
    {
     "name": "stderr",
     "output_type": "stream",
     "text": [
      "Epoch 68,phase: Training: 69it [00:25,  2.80it/s, train acc:  0.723,train loss:  1.834]  "
     ]
    },
    {
     "name": "stdout",
     "output_type": "stream",
     "text": [
      "Not a better score\n"
     ]
    },
    {
     "name": "stderr",
     "output_type": "stream",
     "text": [
      "Epoch 69,phase: Training: 70it [00:25,  2.82it/s, train acc:  0.762,train loss:  1.799]  "
     ]
    },
    {
     "name": "stdout",
     "output_type": "stream",
     "text": [
      "Not a better score\n"
     ]
    },
    {
     "name": "stderr",
     "output_type": "stream",
     "text": [
      "Epoch 70,phase: Training: 71it [00:26,  2.84it/s, train acc:  0.730,train loss:  1.819]  "
     ]
    },
    {
     "name": "stdout",
     "output_type": "stream",
     "text": [
      "Not a better score\n"
     ]
    },
    {
     "name": "stderr",
     "output_type": "stream",
     "text": [
      "Epoch 71,phase: Training: 72it [00:26,  2.90it/s, train acc:  0.721,train loss:  1.826]  "
     ]
    },
    {
     "name": "stdout",
     "output_type": "stream",
     "text": [
      "Not a better score\n"
     ]
    },
    {
     "name": "stderr",
     "output_type": "stream",
     "text": [
      "Epoch 72,phase: Training: 73it [00:26,  2.89it/s, train acc:  0.732,train loss:  1.822]  "
     ]
    },
    {
     "name": "stdout",
     "output_type": "stream",
     "text": [
      "Not a better score\n"
     ]
    },
    {
     "name": "stderr",
     "output_type": "stream",
     "text": [
      "Epoch 73,phase: Training: 74it [00:27,  2.86it/s, train acc:  0.721,train loss:  1.824]  "
     ]
    },
    {
     "name": "stdout",
     "output_type": "stream",
     "text": [
      "Not a better score\n"
     ]
    },
    {
     "name": "stderr",
     "output_type": "stream",
     "text": [
      "Epoch 74,phase: Training: 75it [00:27,  2.73it/s, train acc:  0.725,train loss:  1.824]  "
     ]
    },
    {
     "name": "stdout",
     "output_type": "stream",
     "text": [
      "Not a better score\n"
     ]
    },
    {
     "name": "stderr",
     "output_type": "stream",
     "text": [
      "Epoch 75,phase: Training: 76it [00:28,  2.74it/s, train acc:  0.725,train loss:  1.819]  "
     ]
    },
    {
     "name": "stdout",
     "output_type": "stream",
     "text": [
      "Not a better score\n"
     ]
    },
    {
     "name": "stderr",
     "output_type": "stream",
     "text": [
      "Epoch 76,phase: Training: 77it [00:28,  2.84it/s, train acc:  0.750,train loss:  1.794]  "
     ]
    },
    {
     "name": "stdout",
     "output_type": "stream",
     "text": [
      "Not a better score\n"
     ]
    },
    {
     "name": "stderr",
     "output_type": "stream",
     "text": [
      "Epoch 77,phase: Training: 78it [00:28,  2.86it/s, train acc:  0.789,train loss:  1.765]  "
     ]
    },
    {
     "name": "stdout",
     "output_type": "stream",
     "text": [
      "Not a better score\n"
     ]
    },
    {
     "name": "stderr",
     "output_type": "stream",
     "text": [
      "Epoch 78,phase: Training: 79it [00:29,  2.90it/s, train acc:  0.777,train loss:  1.777]  "
     ]
    },
    {
     "name": "stdout",
     "output_type": "stream",
     "text": [
      "Not a better score\n"
     ]
    },
    {
     "name": "stderr",
     "output_type": "stream",
     "text": [
      "Epoch 79,phase: Training: 80it [00:29,  2.83it/s, train acc:  0.728,train loss:  1.821]  "
     ]
    },
    {
     "name": "stdout",
     "output_type": "stream",
     "text": [
      "Not a better score\n"
     ]
    },
    {
     "name": "stderr",
     "output_type": "stream",
     "text": [
      "Epoch 80,phase: Training: 81it [00:29,  2.82it/s, train acc:  0.742,train loss:  1.809]  "
     ]
    },
    {
     "name": "stdout",
     "output_type": "stream",
     "text": [
      "Not a better score\n"
     ]
    },
    {
     "name": "stderr",
     "output_type": "stream",
     "text": [
      "Epoch 81,phase: Training: 82it [00:30,  2.81it/s, train acc:  0.754,train loss:  1.795]  "
     ]
    },
    {
     "name": "stdout",
     "output_type": "stream",
     "text": [
      "Not a better score\n"
     ]
    },
    {
     "name": "stderr",
     "output_type": "stream",
     "text": [
      "Epoch 82,phase: Training: 83it [00:30,  2.82it/s, train acc:  0.740,train loss:  1.815]  "
     ]
    },
    {
     "name": "stdout",
     "output_type": "stream",
     "text": [
      "Not a better score\n"
     ]
    },
    {
     "name": "stderr",
     "output_type": "stream",
     "text": [
      "Epoch 83,phase: Training: 84it [00:30,  2.79it/s, train acc:  0.754,train loss:  1.797]  "
     ]
    },
    {
     "name": "stdout",
     "output_type": "stream",
     "text": [
      "Not a better score\n"
     ]
    },
    {
     "name": "stderr",
     "output_type": "stream",
     "text": [
      "Epoch 84,phase: Training: 85it [00:31,  2.84it/s, train acc:  0.723,train loss:  1.820]  "
     ]
    },
    {
     "name": "stdout",
     "output_type": "stream",
     "text": [
      "Not a better score\n"
     ]
    },
    {
     "name": "stderr",
     "output_type": "stream",
     "text": [
      "Epoch 85,phase: Training: 86it [00:31,  2.83it/s, train acc:  0.763,train loss:  1.791]  "
     ]
    },
    {
     "name": "stdout",
     "output_type": "stream",
     "text": [
      "Not a better score\n"
     ]
    },
    {
     "name": "stderr",
     "output_type": "stream",
     "text": [
      "Epoch 86,phase: Training: 87it [00:31,  2.78it/s, train acc:  0.742,train loss:  1.804]  "
     ]
    },
    {
     "name": "stdout",
     "output_type": "stream",
     "text": [
      "Not a better score\n"
     ]
    },
    {
     "name": "stderr",
     "output_type": "stream",
     "text": [
      "Epoch 87,phase: Training: 88it [00:32,  2.81it/s, train acc:  0.746,train loss:  1.805]  "
     ]
    },
    {
     "name": "stdout",
     "output_type": "stream",
     "text": [
      "Not a better score\n"
     ]
    },
    {
     "name": "stderr",
     "output_type": "stream",
     "text": [
      "Epoch 88,phase: Training: 89it [00:32,  2.79it/s, train acc:  0.762,train loss:  1.790]  "
     ]
    },
    {
     "name": "stdout",
     "output_type": "stream",
     "text": [
      "Not a better score\n"
     ]
    },
    {
     "name": "stderr",
     "output_type": "stream",
     "text": [
      "Epoch 89,phase: Training: 90it [00:32,  2.79it/s, train acc:  0.750,train loss:  1.799]  "
     ]
    },
    {
     "name": "stdout",
     "output_type": "stream",
     "text": [
      "Not a better score\n"
     ]
    },
    {
     "name": "stderr",
     "output_type": "stream",
     "text": [
      "Epoch 90,phase: Training: 91it [00:33,  2.83it/s, train acc:  0.750,train loss:  1.796]  "
     ]
    },
    {
     "name": "stdout",
     "output_type": "stream",
     "text": [
      "Not a better score\n"
     ]
    },
    {
     "name": "stderr",
     "output_type": "stream",
     "text": [
      "Epoch 91,phase: Training: 92it [00:33,  2.76it/s, train acc:  0.759,train loss:  1.789]  "
     ]
    },
    {
     "name": "stdout",
     "output_type": "stream",
     "text": [
      "Not a better score\n"
     ]
    },
    {
     "name": "stderr",
     "output_type": "stream",
     "text": [
      "Epoch 92,phase: Training: 93it [00:34,  2.80it/s, train acc:  0.746,train loss:  1.796]  "
     ]
    },
    {
     "name": "stdout",
     "output_type": "stream",
     "text": [
      "Not a better score\n"
     ]
    },
    {
     "name": "stderr",
     "output_type": "stream",
     "text": [
      "Epoch 93,phase: Training: 94it [00:34,  2.85it/s, train acc:  0.746,train loss:  1.804]  "
     ]
    },
    {
     "name": "stdout",
     "output_type": "stream",
     "text": [
      "Not a better score\n"
     ]
    },
    {
     "name": "stderr",
     "output_type": "stream",
     "text": [
      "Epoch 94,phase: Training: 95it [00:34,  2.92it/s, train acc:  0.746,train loss:  1.799]  "
     ]
    },
    {
     "name": "stdout",
     "output_type": "stream",
     "text": [
      "Not a better score\n"
     ]
    },
    {
     "name": "stderr",
     "output_type": "stream",
     "text": [
      "Epoch 95,phase: Training: 96it [00:35,  2.95it/s, train acc:  0.759,train loss:  1.791]  "
     ]
    },
    {
     "name": "stdout",
     "output_type": "stream",
     "text": [
      "Not a better score\n"
     ]
    },
    {
     "name": "stderr",
     "output_type": "stream",
     "text": [
      "Epoch 96,phase: Training: 97it [00:35,  2.93it/s, train acc:  0.801,train loss:  1.749]  "
     ]
    },
    {
     "name": "stdout",
     "output_type": "stream",
     "text": [
      "Not a better score\n"
     ]
    },
    {
     "name": "stderr",
     "output_type": "stream",
     "text": [
      "Epoch 97,phase: Training: 98it [00:35,  2.88it/s, train acc:  0.750,train loss:  1.801]  "
     ]
    },
    {
     "name": "stdout",
     "output_type": "stream",
     "text": [
      "Not a better score\n"
     ]
    },
    {
     "name": "stderr",
     "output_type": "stream",
     "text": [
      "Epoch 98,phase: Training: 99it [00:36,  2.88it/s, train acc:  0.759,train loss:  1.786]  "
     ]
    },
    {
     "name": "stdout",
     "output_type": "stream",
     "text": [
      "Not a better score\n"
     ]
    },
    {
     "name": "stderr",
     "output_type": "stream",
     "text": [
      "Epoch 99,phase: Training: 100it [00:36,  2.93it/s, train acc:  0.775,train loss:  1.769] "
     ]
    },
    {
     "name": "stdout",
     "output_type": "stream",
     "text": [
      "Not a better score\n"
     ]
    },
    {
     "name": "stderr",
     "output_type": "stream",
     "text": [
      "Epoch 100,phase: Training: 101it [00:36,  2.96it/s, train acc:  0.746,train loss:  1.797] "
     ]
    },
    {
     "name": "stdout",
     "output_type": "stream",
     "text": [
      "Not a better score\n"
     ]
    },
    {
     "name": "stderr",
     "output_type": "stream",
     "text": [
      "Epoch 101,phase: Training: 102it [00:37,  2.96it/s, train acc:  0.746,train loss:  1.798]  "
     ]
    },
    {
     "name": "stdout",
     "output_type": "stream",
     "text": [
      "Not a better score\n"
     ]
    },
    {
     "name": "stderr",
     "output_type": "stream",
     "text": [
      "Epoch 102,phase: Training: 103it [00:37,  3.00it/s, train acc:  0.772,train loss:  1.776]  "
     ]
    },
    {
     "name": "stdout",
     "output_type": "stream",
     "text": [
      "Not a better score\n"
     ]
    },
    {
     "name": "stderr",
     "output_type": "stream",
     "text": [
      "Epoch 103,phase: Training: 104it [00:37,  2.97it/s, train acc:  0.795,train loss:  1.749]  "
     ]
    },
    {
     "name": "stdout",
     "output_type": "stream",
     "text": [
      "Not a better score\n"
     ]
    },
    {
     "name": "stderr",
     "output_type": "stream",
     "text": [
      "Epoch 104,phase: Training: 105it [00:38,  2.90it/s, train acc:  0.759,train loss:  1.792]  "
     ]
    },
    {
     "name": "stdout",
     "output_type": "stream",
     "text": [
      "Not a better score\n"
     ]
    },
    {
     "name": "stderr",
     "output_type": "stream",
     "text": [
      "Epoch 105,phase: Training: 106it [00:38,  2.85it/s, train acc:  0.758,train loss:  1.797]  "
     ]
    },
    {
     "name": "stdout",
     "output_type": "stream",
     "text": [
      "Not a better score\n"
     ]
    },
    {
     "name": "stderr",
     "output_type": "stream",
     "text": [
      "Epoch 106,phase: Training: 107it [00:38,  2.78it/s, train acc:  0.746,train loss:  1.809]  "
     ]
    },
    {
     "name": "stdout",
     "output_type": "stream",
     "text": [
      "Not a better score\n"
     ]
    },
    {
     "name": "stderr",
     "output_type": "stream",
     "text": [
      "Epoch 107,phase: Training: 108it [00:39,  2.80it/s, train acc:  0.787,train loss:  1.760]  "
     ]
    },
    {
     "name": "stdout",
     "output_type": "stream",
     "text": [
      "Not a better score\n"
     ]
    },
    {
     "name": "stderr",
     "output_type": "stream",
     "text": [
      "Epoch 108,phase: Training: 109it [00:39,  2.83it/s, train acc:  0.775,train loss:  1.778]  "
     ]
    },
    {
     "name": "stdout",
     "output_type": "stream",
     "text": [
      "Not a better score\n"
     ]
    },
    {
     "name": "stderr",
     "output_type": "stream",
     "text": [
      "Epoch 109,phase: Training: 110it [00:39,  2.82it/s, train acc:  0.760,train loss:  1.788]  "
     ]
    },
    {
     "name": "stdout",
     "output_type": "stream",
     "text": [
      "Not a better score\n"
     ]
    },
    {
     "name": "stderr",
     "output_type": "stream",
     "text": [
      "Epoch 110,phase: Training: 111it [00:40,  2.72it/s, train acc:  0.726,train loss:  1.823]  "
     ]
    },
    {
     "name": "stdout",
     "output_type": "stream",
     "text": [
      "Not a better score\n"
     ]
    },
    {
     "name": "stderr",
     "output_type": "stream",
     "text": [
      "Epoch 111,phase: Training: 112it [00:40,  2.69it/s, train acc:  0.759,train loss:  1.788]  "
     ]
    },
    {
     "name": "stdout",
     "output_type": "stream",
     "text": [
      "Not a better score\n"
     ]
    },
    {
     "name": "stderr",
     "output_type": "stream",
     "text": [
      "Epoch 112,phase: Training: 113it [00:41,  2.74it/s, train acc:  0.789,train loss:  1.767]  "
     ]
    },
    {
     "name": "stdout",
     "output_type": "stream",
     "text": [
      "Not a better score\n"
     ]
    },
    {
     "name": "stderr",
     "output_type": "stream",
     "text": [
      "Epoch 113,phase: Training: 114it [00:41,  2.82it/s, train acc:  0.783,train loss:  1.768]  "
     ]
    },
    {
     "name": "stdout",
     "output_type": "stream",
     "text": [
      "Not a better score\n"
     ]
    },
    {
     "name": "stderr",
     "output_type": "stream",
     "text": [
      "Epoch 114,phase: Training: 115it [00:41,  2.84it/s, train acc:  0.772,train loss:  1.778]  "
     ]
    },
    {
     "name": "stdout",
     "output_type": "stream",
     "text": [
      "Not a better score\n"
     ]
    },
    {
     "name": "stderr",
     "output_type": "stream",
     "text": [
      "Epoch 115,phase: Training: 116it [00:42,  2.78it/s, train acc:  0.816,train loss:  1.737]  "
     ]
    },
    {
     "name": "stdout",
     "output_type": "stream",
     "text": [
      "Not a better score\n"
     ]
    },
    {
     "name": "stderr",
     "output_type": "stream",
     "text": [
      "Epoch 116,phase: Training: 117it [00:42,  2.82it/s, train acc:  0.817,train loss:  1.737]  "
     ]
    },
    {
     "name": "stdout",
     "output_type": "stream",
     "text": [
      "Not a better score\n"
     ]
    },
    {
     "name": "stderr",
     "output_type": "stream",
     "text": [
      "Epoch 117,phase: Training: 118it [00:42,  2.74it/s, train acc:  0.774,train loss:  1.777]  "
     ]
    },
    {
     "name": "stdout",
     "output_type": "stream",
     "text": [
      "Not a better score\n"
     ]
    },
    {
     "name": "stderr",
     "output_type": "stream",
     "text": [
      "Epoch 118,phase: Training: 119it [00:43,  2.71it/s, train acc:  0.808,train loss:  1.742]  "
     ]
    },
    {
     "name": "stdout",
     "output_type": "stream",
     "text": [
      "Not a better score\n"
     ]
    },
    {
     "name": "stderr",
     "output_type": "stream",
     "text": [
      "Epoch 119,phase: Training: 120it [00:43,  2.76it/s, train acc:  0.797,train loss:  1.751]  "
     ]
    },
    {
     "name": "stdout",
     "output_type": "stream",
     "text": [
      "Not a better score\n"
     ]
    },
    {
     "name": "stderr",
     "output_type": "stream",
     "text": [
      "Epoch 120,phase: Training: 121it [00:43,  2.88it/s, train acc:  0.771,train loss:  1.780]  "
     ]
    },
    {
     "name": "stdout",
     "output_type": "stream",
     "text": [
      "Not a better score\n"
     ]
    },
    {
     "name": "stderr",
     "output_type": "stream",
     "text": [
      "Epoch 121,phase: Training: 122it [00:44,  2.92it/s, train acc:  0.816,train loss:  1.732]  "
     ]
    },
    {
     "name": "stdout",
     "output_type": "stream",
     "text": [
      "Not a better score\n"
     ]
    },
    {
     "name": "stderr",
     "output_type": "stream",
     "text": [
      "Epoch 122,phase: Training: 123it [00:44,  2.95it/s, train acc:  0.795,train loss:  1.756]  "
     ]
    },
    {
     "name": "stdout",
     "output_type": "stream",
     "text": [
      "Not a better score\n"
     ]
    },
    {
     "name": "stderr",
     "output_type": "stream",
     "text": [
      "Epoch 123,phase: Training: 124it [00:44,  2.82it/s, train acc:  0.804,train loss:  1.745]  "
     ]
    },
    {
     "name": "stdout",
     "output_type": "stream",
     "text": [
      "Not a better score\n"
     ]
    },
    {
     "name": "stderr",
     "output_type": "stream",
     "text": [
      "Epoch 124,phase: Training: 125it [00:45,  2.84it/s, train acc:  0.794,train loss:  1.751]  "
     ]
    },
    {
     "name": "stdout",
     "output_type": "stream",
     "text": [
      "Not a better score\n"
     ]
    },
    {
     "name": "stderr",
     "output_type": "stream",
     "text": [
      "Epoch 125,phase: Training: 126it [00:45,  2.86it/s, train acc:  0.790,train loss:  1.760]  "
     ]
    },
    {
     "name": "stdout",
     "output_type": "stream",
     "text": [
      "Not a better score\n"
     ]
    },
    {
     "name": "stderr",
     "output_type": "stream",
     "text": [
      "Epoch 126,phase: Training: 127it [00:45,  2.81it/s, train acc:  0.821,train loss:  1.725]  "
     ]
    },
    {
     "name": "stdout",
     "output_type": "stream",
     "text": [
      "Not a better score\n"
     ]
    },
    {
     "name": "stderr",
     "output_type": "stream",
     "text": [
      "Epoch 127,phase: Training: 128it [00:46,  2.80it/s, train acc:  0.801,train loss:  1.744]  "
     ]
    },
    {
     "name": "stdout",
     "output_type": "stream",
     "text": [
      "Not a better score\n"
     ]
    },
    {
     "name": "stderr",
     "output_type": "stream",
     "text": [
      "Epoch 128,phase: Training: 129it [00:46,  2.78it/s, train acc:  0.832,train loss:  1.716]  "
     ]
    },
    {
     "name": "stdout",
     "output_type": "stream",
     "text": [
      "Not a better score\n"
     ]
    },
    {
     "name": "stderr",
     "output_type": "stream",
     "text": [
      "Epoch 129,phase: Training: 130it [00:47,  2.70it/s, train acc:  0.826,train loss:  1.719]  "
     ]
    },
    {
     "name": "stdout",
     "output_type": "stream",
     "text": [
      "Not a better score\n"
     ]
    },
    {
     "name": "stderr",
     "output_type": "stream",
     "text": [
      "Epoch 130,phase: Training: 131it [00:47,  2.78it/s, train acc:  0.822,train loss:  1.727]  "
     ]
    },
    {
     "name": "stdout",
     "output_type": "stream",
     "text": [
      "Not a better score\n"
     ]
    },
    {
     "name": "stderr",
     "output_type": "stream",
     "text": [
      "Epoch 131,phase: Training: 132it [00:47,  2.76it/s, train acc:  0.803,train loss:  1.743]  "
     ]
    },
    {
     "name": "stdout",
     "output_type": "stream",
     "text": [
      "Not a better score\n"
     ]
    },
    {
     "name": "stderr",
     "output_type": "stream",
     "text": [
      "Epoch 132,phase: Training: 133it [00:48,  2.69it/s, train acc:  0.821,train loss:  1.725]  "
     ]
    },
    {
     "name": "stdout",
     "output_type": "stream",
     "text": [
      "Not a better score\n"
     ]
    },
    {
     "name": "stderr",
     "output_type": "stream",
     "text": [
      "Epoch 133,phase: Training: 134it [00:48,  2.71it/s, train acc:  0.821,train loss:  1.722]  "
     ]
    },
    {
     "name": "stdout",
     "output_type": "stream",
     "text": [
      "Not a better score\n"
     ]
    },
    {
     "name": "stderr",
     "output_type": "stream",
     "text": [
      "Epoch 134,phase: Training: 135it [00:48,  2.71it/s, train acc:  0.832,train loss:  1.711]  "
     ]
    },
    {
     "name": "stdout",
     "output_type": "stream",
     "text": [
      "Not a better score\n"
     ]
    },
    {
     "name": "stderr",
     "output_type": "stream",
     "text": [
      "Epoch 135,phase: Training: 136it [00:49,  2.70it/s, train acc:  0.832,train loss:  1.713]  "
     ]
    },
    {
     "name": "stdout",
     "output_type": "stream",
     "text": [
      "Not a better score\n"
     ]
    },
    {
     "name": "stderr",
     "output_type": "stream",
     "text": [
      "Epoch 136,phase: Training: 137it [00:49,  2.67it/s, train acc:  0.825,train loss:  1.719]  "
     ]
    },
    {
     "name": "stdout",
     "output_type": "stream",
     "text": [
      "Not a better score\n"
     ]
    },
    {
     "name": "stderr",
     "output_type": "stream",
     "text": [
      "Epoch 137,phase: Training: 138it [00:50,  2.75it/s, train acc:  0.812,train loss:  1.734]  "
     ]
    },
    {
     "name": "stdout",
     "output_type": "stream",
     "text": [
      "Not a better score\n"
     ]
    },
    {
     "name": "stderr",
     "output_type": "stream",
     "text": [
      "Epoch 138,phase: Training: 139it [00:50,  2.77it/s, train acc:  0.796,train loss:  1.748]  "
     ]
    },
    {
     "name": "stdout",
     "output_type": "stream",
     "text": [
      "Not a better score\n"
     ]
    },
    {
     "name": "stderr",
     "output_type": "stream",
     "text": [
      "Epoch 139,phase: Training: 140it [00:50,  2.79it/s, train acc:  0.835,train loss:  1.709]  "
     ]
    },
    {
     "name": "stdout",
     "output_type": "stream",
     "text": [
      "Not a better score\n"
     ]
    },
    {
     "name": "stderr",
     "output_type": "stream",
     "text": [
      "Epoch 140,phase: Training: 141it [00:51,  2.76it/s, train acc:  0.821,train loss:  1.724]  "
     ]
    },
    {
     "name": "stdout",
     "output_type": "stream",
     "text": [
      "Not a better score\n"
     ]
    },
    {
     "name": "stderr",
     "output_type": "stream",
     "text": [
      "Epoch 141,phase: Training: 142it [00:51,  2.82it/s, train acc:  0.829,train loss:  1.712]  "
     ]
    },
    {
     "name": "stdout",
     "output_type": "stream",
     "text": [
      "Not a better score\n"
     ]
    },
    {
     "name": "stderr",
     "output_type": "stream",
     "text": [
      "Epoch 142,phase: Training: 143it [00:51,  2.88it/s, train acc:  0.781,train loss:  1.762]  "
     ]
    },
    {
     "name": "stdout",
     "output_type": "stream",
     "text": [
      "Not a better score\n"
     ]
    },
    {
     "name": "stderr",
     "output_type": "stream",
     "text": [
      "Epoch 143,phase: Training: 144it [00:52,  2.89it/s, train acc:  0.801,train loss:  1.742]  "
     ]
    },
    {
     "name": "stdout",
     "output_type": "stream",
     "text": [
      "Not a better score\n"
     ]
    },
    {
     "name": "stderr",
     "output_type": "stream",
     "text": [
      "Epoch 144,phase: Training: 145it [00:52,  2.93it/s, train acc:  0.796,train loss:  1.748]  "
     ]
    },
    {
     "name": "stdout",
     "output_type": "stream",
     "text": [
      "Not a better score\n"
     ]
    },
    {
     "name": "stderr",
     "output_type": "stream",
     "text": [
      "Epoch 145,phase: Training: 146it [00:52,  2.88it/s, train acc:  0.777,train loss:  1.767]  "
     ]
    },
    {
     "name": "stdout",
     "output_type": "stream",
     "text": [
      "Not a better score\n"
     ]
    },
    {
     "name": "stderr",
     "output_type": "stream",
     "text": [
      "Epoch 146,phase: Training: 147it [00:53,  2.84it/s, train acc:  0.805,train loss:  1.740]  "
     ]
    },
    {
     "name": "stdout",
     "output_type": "stream",
     "text": [
      "Not a better score\n"
     ]
    },
    {
     "name": "stderr",
     "output_type": "stream",
     "text": [
      "Epoch 147,phase: Training: 148it [00:53,  2.88it/s, train acc:  0.801,train loss:  1.742]  "
     ]
    },
    {
     "name": "stdout",
     "output_type": "stream",
     "text": [
      "Not a better score\n"
     ]
    },
    {
     "name": "stderr",
     "output_type": "stream",
     "text": [
      "Epoch 148,phase: Training: 149it [00:53,  2.94it/s, train acc:  0.808,train loss:  1.735]  "
     ]
    },
    {
     "name": "stdout",
     "output_type": "stream",
     "text": [
      "Not a better score\n"
     ]
    },
    {
     "name": "stderr",
     "output_type": "stream",
     "text": [
      "Epoch 149,phase: Training: 150it [00:54,  2.93it/s, train acc:  0.812,train loss:  1.730]  "
     ]
    },
    {
     "name": "stdout",
     "output_type": "stream",
     "text": [
      "Not a better score\n"
     ]
    },
    {
     "name": "stderr",
     "output_type": "stream",
     "text": [
      "Epoch 150,phase: Training: 151it [00:54,  3.00it/s, train acc:  0.804,train loss:  1.742]  "
     ]
    },
    {
     "name": "stdout",
     "output_type": "stream",
     "text": [
      "Not a better score\n"
     ]
    },
    {
     "name": "stderr",
     "output_type": "stream",
     "text": [
      "Epoch 151,phase: Training: 152it [00:54,  2.89it/s, train acc:  0.802,train loss:  1.740]  "
     ]
    },
    {
     "name": "stdout",
     "output_type": "stream",
     "text": [
      "Not a better score\n"
     ]
    },
    {
     "name": "stderr",
     "output_type": "stream",
     "text": [
      "Epoch 152,phase: Training: 153it [00:55,  2.85it/s, train acc:  0.808,train loss:  1.733]  "
     ]
    },
    {
     "name": "stdout",
     "output_type": "stream",
     "text": [
      "Not a better score\n"
     ]
    },
    {
     "name": "stderr",
     "output_type": "stream",
     "text": [
      "Epoch 153,phase: Training: 154it [00:55,  2.90it/s, train acc:  0.817,train loss:  1.722]  "
     ]
    },
    {
     "name": "stdout",
     "output_type": "stream",
     "text": [
      "Not a better score\n"
     ]
    },
    {
     "name": "stderr",
     "output_type": "stream",
     "text": [
      "Epoch 154,phase: Training: 155it [00:55,  2.87it/s, train acc:  0.790,train loss:  1.753]  "
     ]
    },
    {
     "name": "stdout",
     "output_type": "stream",
     "text": [
      "Not a better score\n"
     ]
    },
    {
     "name": "stderr",
     "output_type": "stream",
     "text": [
      "Epoch 155,phase: Training: 156it [00:56,  2.82it/s, train acc:  0.808,train loss:  1.732]  "
     ]
    },
    {
     "name": "stdout",
     "output_type": "stream",
     "text": [
      "Not a better score\n"
     ]
    },
    {
     "name": "stderr",
     "output_type": "stream",
     "text": [
      "Epoch 156,phase: Training: 157it [00:56,  2.79it/s, train acc:  0.793,train loss:  1.750]  "
     ]
    },
    {
     "name": "stdout",
     "output_type": "stream",
     "text": [
      "Not a better score\n"
     ]
    },
    {
     "name": "stderr",
     "output_type": "stream",
     "text": [
      "Epoch 157,phase: Training: 158it [00:57,  2.71it/s, train acc:  0.838,train loss:  1.704]  "
     ]
    },
    {
     "name": "stdout",
     "output_type": "stream",
     "text": [
      "Not a better score\n"
     ]
    },
    {
     "name": "stderr",
     "output_type": "stream",
     "text": [
      "Epoch 158,phase: Training: 159it [00:57,  2.78it/s, train acc:  0.821,train loss:  1.721]  "
     ]
    },
    {
     "name": "stdout",
     "output_type": "stream",
     "text": [
      "Not a better score\n"
     ]
    },
    {
     "name": "stderr",
     "output_type": "stream",
     "text": [
      "Epoch 159,phase: Training: 160it [00:57,  2.78it/s, train acc:  0.808,train loss:  1.734]  "
     ]
    },
    {
     "name": "stdout",
     "output_type": "stream",
     "text": [
      "Not a better score\n"
     ]
    },
    {
     "name": "stderr",
     "output_type": "stream",
     "text": [
      "Epoch 160,phase: Training: 161it [00:58,  2.76it/s, train acc:  0.800,train loss:  1.741]  "
     ]
    },
    {
     "name": "stdout",
     "output_type": "stream",
     "text": [
      "Not a better score\n"
     ]
    },
    {
     "name": "stderr",
     "output_type": "stream",
     "text": [
      "Epoch 161,phase: Training: 162it [00:58,  2.79it/s, train acc:  0.804,train loss:  1.737]  "
     ]
    },
    {
     "name": "stdout",
     "output_type": "stream",
     "text": [
      "Not a better score\n"
     ]
    },
    {
     "name": "stderr",
     "output_type": "stream",
     "text": [
      "Epoch 162,phase: Training: 163it [00:58,  2.82it/s, train acc:  0.812,train loss:  1.729]  "
     ]
    },
    {
     "name": "stdout",
     "output_type": "stream",
     "text": [
      "Not a better score\n"
     ]
    },
    {
     "name": "stderr",
     "output_type": "stream",
     "text": [
      "Epoch 163,phase: Training: 164it [00:59,  2.75it/s, train acc:  0.817,train loss:  1.724]  "
     ]
    },
    {
     "name": "stdout",
     "output_type": "stream",
     "text": [
      "Not a better score\n"
     ]
    },
    {
     "name": "stderr",
     "output_type": "stream",
     "text": [
      "Epoch 164,phase: Training: 165it [00:59,  2.72it/s, train acc:  0.812,train loss:  1.728]  "
     ]
    },
    {
     "name": "stdout",
     "output_type": "stream",
     "text": [
      "Not a better score\n"
     ]
    },
    {
     "name": "stderr",
     "output_type": "stream",
     "text": [
      "Epoch 165,phase: Training: 166it [00:59,  2.74it/s, train acc:  0.809,train loss:  1.732]  "
     ]
    },
    {
     "name": "stdout",
     "output_type": "stream",
     "text": [
      "Not a better score\n"
     ]
    },
    {
     "name": "stderr",
     "output_type": "stream",
     "text": [
      "Epoch 166,phase: Training: 167it [01:00,  2.85it/s, train acc:  0.821,train loss:  1.720]  "
     ]
    },
    {
     "name": "stdout",
     "output_type": "stream",
     "text": [
      "Not a better score\n"
     ]
    },
    {
     "name": "stderr",
     "output_type": "stream",
     "text": [
      "Epoch 167,phase: Training: 168it [01:00,  2.84it/s, train acc:  0.839,train loss:  1.702]  "
     ]
    },
    {
     "name": "stdout",
     "output_type": "stream",
     "text": [
      "Not a better score\n"
     ]
    },
    {
     "name": "stderr",
     "output_type": "stream",
     "text": [
      "Epoch 168,phase: Training: 169it [01:00,  2.82it/s, train acc:  0.832,train loss:  1.710]  "
     ]
    },
    {
     "name": "stdout",
     "output_type": "stream",
     "text": [
      "Not a better score\n"
     ]
    },
    {
     "name": "stderr",
     "output_type": "stream",
     "text": [
      "Epoch 169,phase: Training: 170it [01:01,  2.73it/s, train acc:  0.779,train loss:  1.761]  "
     ]
    },
    {
     "name": "stdout",
     "output_type": "stream",
     "text": [
      "Not a better score\n"
     ]
    },
    {
     "name": "stderr",
     "output_type": "stream",
     "text": [
      "Epoch 170,phase: Training: 171it [01:01,  2.78it/s, train acc:  0.829,train loss:  1.712]  "
     ]
    },
    {
     "name": "stdout",
     "output_type": "stream",
     "text": [
      "Not a better score\n"
     ]
    },
    {
     "name": "stderr",
     "output_type": "stream",
     "text": [
      "Epoch 171,phase: Training: 172it [01:02,  2.82it/s, train acc:  0.809,train loss:  1.732]  "
     ]
    },
    {
     "name": "stdout",
     "output_type": "stream",
     "text": [
      "Not a better score\n"
     ]
    },
    {
     "name": "stderr",
     "output_type": "stream",
     "text": [
      "Epoch 172,phase: Training: 173it [01:02,  2.86it/s, train acc:  0.818,train loss:  1.724]  "
     ]
    },
    {
     "name": "stdout",
     "output_type": "stream",
     "text": [
      "Not a better score\n"
     ]
    },
    {
     "name": "stderr",
     "output_type": "stream",
     "text": [
      "Epoch 173,phase: Training: 174it [01:02,  2.74it/s, train acc:  0.812,train loss:  1.728]  "
     ]
    },
    {
     "name": "stdout",
     "output_type": "stream",
     "text": [
      "Not a better score\n"
     ]
    },
    {
     "name": "stderr",
     "output_type": "stream",
     "text": [
      "Epoch 174,phase: Training: 175it [01:03,  2.65it/s, train acc:  0.788,train loss:  1.752]  "
     ]
    },
    {
     "name": "stdout",
     "output_type": "stream",
     "text": [
      "Not a better score\n"
     ]
    },
    {
     "name": "stderr",
     "output_type": "stream",
     "text": [
      "Epoch 175,phase: Training: 176it [01:03,  2.69it/s, train acc:  0.830,train loss:  1.711]  "
     ]
    },
    {
     "name": "stdout",
     "output_type": "stream",
     "text": [
      "Not a better score\n"
     ]
    },
    {
     "name": "stderr",
     "output_type": "stream",
     "text": [
      "Epoch 176,phase: Training: 177it [01:03,  2.75it/s, train acc:  0.812,train loss:  1.728]  "
     ]
    },
    {
     "name": "stdout",
     "output_type": "stream",
     "text": [
      "Not a better score\n"
     ]
    },
    {
     "name": "stderr",
     "output_type": "stream",
     "text": [
      "Epoch 177,phase: Training: 178it [01:04,  2.76it/s, train acc:  0.792,train loss:  1.749]  "
     ]
    },
    {
     "name": "stdout",
     "output_type": "stream",
     "text": [
      "Not a better score\n"
     ]
    },
    {
     "name": "stderr",
     "output_type": "stream",
     "text": [
      "Epoch 178,phase: Training: 179it [01:04,  2.80it/s, train acc:  0.844,train loss:  1.697]  "
     ]
    },
    {
     "name": "stdout",
     "output_type": "stream",
     "text": [
      "Not a better score\n"
     ]
    },
    {
     "name": "stderr",
     "output_type": "stream",
     "text": [
      "Epoch 179,phase: Training: 180it [01:04,  2.79it/s, train acc:  0.828,train loss:  1.713]  "
     ]
    },
    {
     "name": "stdout",
     "output_type": "stream",
     "text": [
      "Not a better score\n"
     ]
    },
    {
     "name": "stderr",
     "output_type": "stream",
     "text": [
      "Epoch 180,phase: Training: 181it [01:05,  2.62it/s, train acc:  0.807,train loss:  1.734]  "
     ]
    },
    {
     "name": "stdout",
     "output_type": "stream",
     "text": [
      "Not a better score\n"
     ]
    },
    {
     "name": "stderr",
     "output_type": "stream",
     "text": [
      "Epoch 181,phase: Training: 182it [01:05,  2.52it/s, train acc:  0.824,train loss:  1.717]  "
     ]
    },
    {
     "name": "stdout",
     "output_type": "stream",
     "text": [
      "Not a better score\n"
     ]
    },
    {
     "name": "stderr",
     "output_type": "stream",
     "text": [
      "Epoch 182,phase: Training: 183it [01:06,  2.65it/s, train acc:  0.804,train loss:  1.736]  "
     ]
    },
    {
     "name": "stdout",
     "output_type": "stream",
     "text": [
      "Not a better score\n"
     ]
    },
    {
     "name": "stderr",
     "output_type": "stream",
     "text": [
      "Epoch 183,phase: Training: 184it [01:06,  2.72it/s, train acc:  0.812,train loss:  1.728]  "
     ]
    },
    {
     "name": "stdout",
     "output_type": "stream",
     "text": [
      "Not a better score\n"
     ]
    },
    {
     "name": "stderr",
     "output_type": "stream",
     "text": [
      "Epoch 184,phase: Training: 185it [01:06,  2.81it/s, train acc:  0.790,train loss:  1.750]  "
     ]
    },
    {
     "name": "stdout",
     "output_type": "stream",
     "text": [
      "Not a better score\n"
     ]
    },
    {
     "name": "stderr",
     "output_type": "stream",
     "text": [
      "Epoch 185,phase: Training: 186it [01:07,  2.76it/s, train acc:  0.817,train loss:  1.723]  "
     ]
    },
    {
     "name": "stdout",
     "output_type": "stream",
     "text": [
      "Not a better score\n"
     ]
    },
    {
     "name": "stderr",
     "output_type": "stream",
     "text": [
      "Epoch 186,phase: Training: 187it [01:07,  2.71it/s, train acc:  0.798,train loss:  1.742]  "
     ]
    },
    {
     "name": "stdout",
     "output_type": "stream",
     "text": [
      "Not a better score\n"
     ]
    },
    {
     "name": "stderr",
     "output_type": "stream",
     "text": [
      "Epoch 187,phase: Training: 188it [01:07,  2.69it/s, train acc:  0.829,train loss:  1.712]  "
     ]
    },
    {
     "name": "stdout",
     "output_type": "stream",
     "text": [
      "Not a better score\n"
     ]
    },
    {
     "name": "stderr",
     "output_type": "stream",
     "text": [
      "Epoch 188,phase: Training: 189it [01:08,  2.75it/s, train acc:  0.795,train loss:  1.745]  "
     ]
    },
    {
     "name": "stdout",
     "output_type": "stream",
     "text": [
      "Not a better score\n"
     ]
    },
    {
     "name": "stderr",
     "output_type": "stream",
     "text": [
      "Epoch 189,phase: Training: 190it [01:08,  2.73it/s, train acc:  0.832,train loss:  1.711]  "
     ]
    },
    {
     "name": "stdout",
     "output_type": "stream",
     "text": [
      "Not a better score\n"
     ]
    },
    {
     "name": "stderr",
     "output_type": "stream",
     "text": [
      "Epoch 190,phase: Training: 191it [01:09,  2.70it/s, train acc:  0.817,train loss:  1.725]  "
     ]
    },
    {
     "name": "stdout",
     "output_type": "stream",
     "text": [
      "Not a better score\n"
     ]
    },
    {
     "name": "stderr",
     "output_type": "stream",
     "text": [
      "Epoch 191,phase: Training: 192it [01:09,  2.64it/s, train acc:  0.800,train loss:  1.740]  "
     ]
    },
    {
     "name": "stdout",
     "output_type": "stream",
     "text": [
      "Not a better score\n"
     ]
    },
    {
     "name": "stderr",
     "output_type": "stream",
     "text": [
      "Epoch 192,phase: Training: 193it [01:09,  2.71it/s, train acc:  0.789,train loss:  1.751]  "
     ]
    },
    {
     "name": "stdout",
     "output_type": "stream",
     "text": [
      "Not a better score\n"
     ]
    },
    {
     "name": "stderr",
     "output_type": "stream",
     "text": [
      "Epoch 193,phase: Training: 194it [01:10,  2.80it/s, train acc:  0.812,train loss:  1.729]  "
     ]
    },
    {
     "name": "stdout",
     "output_type": "stream",
     "text": [
      "Not a better score\n"
     ]
    },
    {
     "name": "stderr",
     "output_type": "stream",
     "text": [
      "Epoch 194,phase: Training: 195it [01:10,  2.85it/s, train acc:  0.808,train loss:  1.732]  "
     ]
    },
    {
     "name": "stdout",
     "output_type": "stream",
     "text": [
      "Not a better score\n"
     ]
    },
    {
     "name": "stderr",
     "output_type": "stream",
     "text": [
      "Epoch 195,phase: Training: 196it [01:10,  2.75it/s, train acc:  0.762,train loss:  1.779]  "
     ]
    },
    {
     "name": "stdout",
     "output_type": "stream",
     "text": [
      "Not a better score\n"
     ]
    },
    {
     "name": "stderr",
     "output_type": "stream",
     "text": [
      "Epoch 196,phase: Training: 197it [01:11,  2.67it/s, train acc:  0.712,train loss:  1.829]  "
     ]
    },
    {
     "name": "stdout",
     "output_type": "stream",
     "text": [
      "Not a better score\n"
     ]
    },
    {
     "name": "stderr",
     "output_type": "stream",
     "text": [
      "Epoch 197,phase: Training: 198it [01:11,  2.62it/s, train acc:  0.837,train loss:  1.709]  "
     ]
    },
    {
     "name": "stdout",
     "output_type": "stream",
     "text": [
      "Not a better score\n"
     ]
    },
    {
     "name": "stderr",
     "output_type": "stream",
     "text": [
      "Epoch 198,phase: Training: 199it [01:12,  2.68it/s, train acc:  0.787,train loss:  1.758]  "
     ]
    },
    {
     "name": "stdout",
     "output_type": "stream",
     "text": [
      "Not a better score\n"
     ]
    },
    {
     "name": "stderr",
     "output_type": "stream",
     "text": [
      "Epoch 199,phase: Training: 200it [01:12,  2.78it/s, train acc:  0.783,train loss:  1.756]  "
     ]
    },
    {
     "name": "stdout",
     "output_type": "stream",
     "text": [
      "Not a better score\n"
     ]
    },
    {
     "name": "stderr",
     "output_type": "stream",
     "text": [
      "Epoch 199,phase: Validation: 200it [01:12,  2.76it/s, val acc:  0.406,val loss:  2.110]    "
     ]
    },
    {
     "name": "stdout",
     "output_type": "stream",
     "text": [
      "Not a better score\n",
      "Training ended returning the best model\n",
      "Best val acc: 0.4835164835164835, Best val loss: 2.047486503918966, Best train acc: 0.6722222222222223, Best train loss: 1.8831380450207253 \n"
     ]
    },
    {
     "name": "stderr",
     "output_type": "stream",
     "text": [
      "\n"
     ]
    }
   ],
   "source": [
    "# standard adam optimizer, no pooling, no weight decay, no dropout, no scheduler\n",
    "trainer_m = Trainer(model, criterion, train_loader, val_loader, optimizer, num_epoch=NUM_EPOCHS, patience=PATIENCE,batch_size=BATCH_SIZE,lr_scheduler= None)\n",
    "best_model = trainer_m.train()\n",
    "# Best val acc: 0.4945054945054945, Best val loss: 2.0346497694651284, Best train acc: 0.8333333333333334, Best train loss: 1.7067015378371528\n",
    "# Best val acc: 0.5054945054945055, Best val loss: 2.0317842761675515, Best train acc: 0.8527777777777777, Best train loss: 1.691160772157752\n",
    "# Best val acc: 0.4835164835164835, Best val loss: 2.048618813355764, Best train acc: 0.8638888888888889, Best train loss: 1.6764802984569385 "
   ]
  },
  {
   "cell_type": "markdown",
   "metadata": {},
   "source": [
    "### Part 1.3: Add Pooling Layers\n",
    "We will now add max pooling layers after each of our convolutional layers. This code has already been provided for you; all you need to do is switch the pooling flag in the hyper-parameters to True,\n",
    "and choose different values for the pooling filter size and stride. After you applied max pooling, what happened to your results? How did the training accuracy vs. validation accuracy change? What does\n",
    "that tell you about the effect of max pooling on your network?"
   ]
  },
  {
   "cell_type": "code",
   "execution_count": 14,
   "metadata": {},
   "outputs": [
    {
     "name": "stderr",
     "output_type": "stream",
     "text": [
      "Epoch 0,phase: Training: 1it [00:00, ?it/s, train_loss : ?, train_acc: ?]C:\\Users\\Tolga\\anaconda3\\envs\\comp541\\lib\\site-packages\\ipykernel_launcher.py:52: UserWarning: Implicit dimension choice for softmax has been deprecated. Change the call to include dim=X as an argument.\n",
      "Epoch 1,phase: Training: 2it [00:00,  4.57it/s, train acc:  0.096,train loss:  2.398]  "
     ]
    },
    {
     "name": "stdout",
     "output_type": "stream",
     "text": [
      "New best loss, loss is:  2.3971465826034546 acc is:  0.16483516483516483\n"
     ]
    },
    {
     "name": "stderr",
     "output_type": "stream",
     "text": [
      "Epoch 2,phase: Training: 3it [00:01,  3.32it/s, train acc:  0.062,train loss:  2.398]  "
     ]
    },
    {
     "name": "stdout",
     "output_type": "stream",
     "text": [
      "New best loss, loss is:  2.397123336791992 acc is:  0.16483516483516483\n"
     ]
    },
    {
     "name": "stderr",
     "output_type": "stream",
     "text": [
      "Epoch 3,phase: Training: 4it [00:01,  2.85it/s, train acc:  0.067,train loss:  2.398]  "
     ]
    },
    {
     "name": "stdout",
     "output_type": "stream",
     "text": [
      "Not a better score\n"
     ]
    },
    {
     "name": "stderr",
     "output_type": "stream",
     "text": [
      "Epoch 4,phase: Training: 5it [00:01,  2.77it/s, train acc:  0.078,train loss:  2.398]  "
     ]
    },
    {
     "name": "stdout",
     "output_type": "stream",
     "text": [
      "Not a better score\n"
     ]
    },
    {
     "name": "stderr",
     "output_type": "stream",
     "text": [
      "Epoch 5,phase: Training: 6it [00:02,  2.62it/s, train acc:  0.085,train loss:  2.398]  "
     ]
    },
    {
     "name": "stdout",
     "output_type": "stream",
     "text": [
      "New best loss, loss is:  2.39700448513031 acc is:  0.16483516483516483\n"
     ]
    },
    {
     "name": "stderr",
     "output_type": "stream",
     "text": [
      "Epoch 6,phase: Training: 7it [00:02,  2.52it/s, train acc:  0.062,train loss:  2.399]  "
     ]
    },
    {
     "name": "stdout",
     "output_type": "stream",
     "text": [
      "Not a better score\n"
     ]
    },
    {
     "name": "stderr",
     "output_type": "stream",
     "text": [
      "Epoch 7,phase: Training: 8it [00:03,  2.48it/s, train acc:  0.071,train loss:  2.398]  "
     ]
    },
    {
     "name": "stdout",
     "output_type": "stream",
     "text": [
      "Not a better score\n"
     ]
    },
    {
     "name": "stderr",
     "output_type": "stream",
     "text": [
      "Epoch 8,phase: Training: 9it [00:03,  2.55it/s, train acc:  0.076,train loss:  2.398]  "
     ]
    },
    {
     "name": "stdout",
     "output_type": "stream",
     "text": [
      "Not a better score\n"
     ]
    },
    {
     "name": "stderr",
     "output_type": "stream",
     "text": [
      "Epoch 9,phase: Training: 10it [00:03,  2.59it/s, train acc:  0.094,train loss:  2.398] "
     ]
    },
    {
     "name": "stdout",
     "output_type": "stream",
     "text": [
      "New best loss, loss is:  2.3969308137893677 acc is:  0.16483516483516483\n"
     ]
    },
    {
     "name": "stderr",
     "output_type": "stream",
     "text": [
      "Epoch 10,phase: Training: 11it [00:04,  2.61it/s, train acc:  0.071,train loss:  2.398] "
     ]
    },
    {
     "name": "stdout",
     "output_type": "stream",
     "text": [
      "Not a better score\n"
     ]
    },
    {
     "name": "stderr",
     "output_type": "stream",
     "text": [
      "Epoch 11,phase: Training: 12it [00:04,  2.73it/s, train acc:  0.067,train loss:  2.398]  "
     ]
    },
    {
     "name": "stdout",
     "output_type": "stream",
     "text": [
      "Not a better score\n"
     ]
    },
    {
     "name": "stderr",
     "output_type": "stream",
     "text": [
      "Epoch 12,phase: Training: 13it [00:05,  2.54it/s, train acc:  0.062,train loss:  2.398]  "
     ]
    },
    {
     "name": "stdout",
     "output_type": "stream",
     "text": [
      "Not a better score\n"
     ]
    },
    {
     "name": "stderr",
     "output_type": "stream",
     "text": [
      "Epoch 13,phase: Training: 14it [00:05,  2.57it/s, train acc:  0.071,train loss:  2.398]  "
     ]
    },
    {
     "name": "stdout",
     "output_type": "stream",
     "text": [
      "Not a better score\n"
     ]
    },
    {
     "name": "stderr",
     "output_type": "stream",
     "text": [
      "Epoch 14,phase: Training: 15it [00:05,  2.63it/s, train acc:  0.090,train loss:  2.399]  "
     ]
    },
    {
     "name": "stdout",
     "output_type": "stream",
     "text": [
      "Not a better score\n"
     ]
    },
    {
     "name": "stderr",
     "output_type": "stream",
     "text": [
      "Epoch 15,phase: Training: 16it [00:06,  2.70it/s, train acc:  0.077,train loss:  2.399]  "
     ]
    },
    {
     "name": "stdout",
     "output_type": "stream",
     "text": [
      "Not a better score\n"
     ]
    },
    {
     "name": "stderr",
     "output_type": "stream",
     "text": [
      "Epoch 16,phase: Training: 17it [00:06,  2.69it/s, train acc:  0.098,train loss:  2.398]  "
     ]
    },
    {
     "name": "stdout",
     "output_type": "stream",
     "text": [
      "Not a better score\n"
     ]
    },
    {
     "name": "stderr",
     "output_type": "stream",
     "text": [
      "Epoch 17,phase: Training: 18it [00:06,  2.64it/s, train acc:  0.072,train loss:  2.398]  "
     ]
    },
    {
     "name": "stdout",
     "output_type": "stream",
     "text": [
      "Not a better score\n"
     ]
    },
    {
     "name": "stderr",
     "output_type": "stream",
     "text": [
      "Epoch 18,phase: Training: 19it [00:07,  2.61it/s, train acc:  0.075,train loss:  2.398]  "
     ]
    },
    {
     "name": "stdout",
     "output_type": "stream",
     "text": [
      "Not a better score\n"
     ]
    },
    {
     "name": "stderr",
     "output_type": "stream",
     "text": [
      "Epoch 19,phase: Training: 20it [00:07,  2.66it/s, train acc:  0.054,train loss:  2.398]  "
     ]
    },
    {
     "name": "stdout",
     "output_type": "stream",
     "text": [
      "Not a better score\n"
     ]
    },
    {
     "name": "stderr",
     "output_type": "stream",
     "text": [
      "Epoch 20,phase: Training: 21it [00:07,  2.69it/s, train acc:  0.067,train loss:  2.398]  "
     ]
    },
    {
     "name": "stdout",
     "output_type": "stream",
     "text": [
      "Not a better score\n"
     ]
    },
    {
     "name": "stderr",
     "output_type": "stream",
     "text": [
      "Epoch 21,phase: Training: 22it [00:08,  2.68it/s, train acc:  0.057,train loss:  2.398]  "
     ]
    },
    {
     "name": "stdout",
     "output_type": "stream",
     "text": [
      "Not a better score\n"
     ]
    },
    {
     "name": "stderr",
     "output_type": "stream",
     "text": [
      "Epoch 22,phase: Training: 23it [00:08,  2.54it/s, train acc:  0.087,train loss:  2.398]  "
     ]
    },
    {
     "name": "stdout",
     "output_type": "stream",
     "text": [
      "Not a better score\n"
     ]
    },
    {
     "name": "stderr",
     "output_type": "stream",
     "text": [
      "Epoch 23,phase: Training: 24it [00:09,  2.51it/s, train acc:  0.076,train loss:  2.398]  "
     ]
    },
    {
     "name": "stdout",
     "output_type": "stream",
     "text": [
      "Not a better score\n"
     ]
    },
    {
     "name": "stderr",
     "output_type": "stream",
     "text": [
      "Epoch 24,phase: Training: 25it [00:09,  2.54it/s, train acc:  0.067,train loss:  2.398]  "
     ]
    },
    {
     "name": "stdout",
     "output_type": "stream",
     "text": [
      "Not a better score\n"
     ]
    },
    {
     "name": "stderr",
     "output_type": "stream",
     "text": [
      "Epoch 25,phase: Training: 26it [00:10,  2.54it/s, train acc:  0.083,train loss:  2.398]  "
     ]
    },
    {
     "name": "stdout",
     "output_type": "stream",
     "text": [
      "Not a better score\n"
     ]
    },
    {
     "name": "stderr",
     "output_type": "stream",
     "text": [
      "Epoch 26,phase: Training: 27it [00:10,  2.60it/s, train acc:  0.071,train loss:  2.398]  "
     ]
    },
    {
     "name": "stdout",
     "output_type": "stream",
     "text": [
      "Not a better score\n"
     ]
    },
    {
     "name": "stderr",
     "output_type": "stream",
     "text": [
      "Epoch 27,phase: Training: 28it [00:10,  2.63it/s, train acc:  0.079,train loss:  2.398]  "
     ]
    },
    {
     "name": "stdout",
     "output_type": "stream",
     "text": [
      "Not a better score\n"
     ]
    },
    {
     "name": "stderr",
     "output_type": "stream",
     "text": [
      "Epoch 28,phase: Training: 29it [00:11,  2.66it/s, train acc:  0.096,train loss:  2.398]  "
     ]
    },
    {
     "name": "stdout",
     "output_type": "stream",
     "text": [
      "Not a better score\n"
     ]
    },
    {
     "name": "stderr",
     "output_type": "stream",
     "text": [
      "Epoch 29,phase: Training: 30it [00:11,  2.66it/s, train acc:  0.089,train loss:  2.398]  "
     ]
    },
    {
     "name": "stdout",
     "output_type": "stream",
     "text": [
      "Not a better score\n"
     ]
    },
    {
     "name": "stderr",
     "output_type": "stream",
     "text": [
      "Epoch 30,phase: Training: 31it [00:11,  2.63it/s, train acc:  0.109,train loss:  2.398]  "
     ]
    },
    {
     "name": "stdout",
     "output_type": "stream",
     "text": [
      "Not a better score\n"
     ]
    },
    {
     "name": "stderr",
     "output_type": "stream",
     "text": [
      "Epoch 31,phase: Training: 32it [00:12,  2.56it/s, train acc:  0.077,train loss:  2.398]  "
     ]
    },
    {
     "name": "stdout",
     "output_type": "stream",
     "text": [
      "Not a better score\n"
     ]
    },
    {
     "name": "stderr",
     "output_type": "stream",
     "text": [
      "Epoch 32,phase: Training: 33it [00:12,  2.52it/s, train acc:  0.079,train loss:  2.398]  "
     ]
    },
    {
     "name": "stdout",
     "output_type": "stream",
     "text": [
      "Not a better score\n"
     ]
    },
    {
     "name": "stderr",
     "output_type": "stream",
     "text": [
      "Epoch 33,phase: Training: 34it [00:13,  2.52it/s, train acc:  0.083,train loss:  2.398]  "
     ]
    },
    {
     "name": "stdout",
     "output_type": "stream",
     "text": [
      "Not a better score\n"
     ]
    },
    {
     "name": "stderr",
     "output_type": "stream",
     "text": [
      "Epoch 34,phase: Training: 35it [00:13,  2.49it/s, train acc:  0.082,train loss:  2.398]  "
     ]
    },
    {
     "name": "stdout",
     "output_type": "stream",
     "text": [
      "Not a better score\n"
     ]
    },
    {
     "name": "stderr",
     "output_type": "stream",
     "text": [
      "Epoch 35,phase: Training: 36it [00:13,  2.49it/s, train acc:  0.062,train loss:  2.398]  "
     ]
    },
    {
     "name": "stdout",
     "output_type": "stream",
     "text": [
      "New best loss, loss is:  2.3968003590901694 acc is:  0.16483516483516483\n"
     ]
    },
    {
     "name": "stderr",
     "output_type": "stream",
     "text": [
      "Epoch 36,phase: Training: 37it [00:14,  2.49it/s, train acc:  0.083,train loss:  2.398]  "
     ]
    },
    {
     "name": "stdout",
     "output_type": "stream",
     "text": [
      "Not a better score\n"
     ]
    },
    {
     "name": "stderr",
     "output_type": "stream",
     "text": [
      "Epoch 37,phase: Training: 38it [00:14,  2.46it/s, train acc:  0.072,train loss:  2.398]  "
     ]
    },
    {
     "name": "stdout",
     "output_type": "stream",
     "text": [
      "Not a better score\n"
     ]
    },
    {
     "name": "stderr",
     "output_type": "stream",
     "text": [
      "Epoch 38,phase: Training: 39it [00:15,  2.40it/s, train acc:  0.091,train loss:  2.397]  "
     ]
    },
    {
     "name": "stdout",
     "output_type": "stream",
     "text": [
      "Not a better score\n"
     ]
    },
    {
     "name": "stderr",
     "output_type": "stream",
     "text": [
      "Epoch 39,phase: Training: 40it [00:15,  2.32it/s, train acc:  0.074,train loss:  2.398]  "
     ]
    },
    {
     "name": "stdout",
     "output_type": "stream",
     "text": [
      "Not a better score\n"
     ]
    },
    {
     "name": "stderr",
     "output_type": "stream",
     "text": [
      "Epoch 40,phase: Training: 41it [00:16,  2.32it/s, train acc:  0.077,train loss:  2.398]  "
     ]
    },
    {
     "name": "stdout",
     "output_type": "stream",
     "text": [
      "Not a better score\n"
     ]
    },
    {
     "name": "stderr",
     "output_type": "stream",
     "text": [
      "Epoch 41,phase: Training: 42it [00:16,  2.37it/s, train acc:  0.085,train loss:  2.398]  "
     ]
    },
    {
     "name": "stdout",
     "output_type": "stream",
     "text": [
      "Not a better score\n"
     ]
    },
    {
     "name": "stderr",
     "output_type": "stream",
     "text": [
      "Epoch 42,phase: Training: 43it [00:16,  2.47it/s, train acc:  0.067,train loss:  2.398]  "
     ]
    },
    {
     "name": "stdout",
     "output_type": "stream",
     "text": [
      "Not a better score\n"
     ]
    },
    {
     "name": "stderr",
     "output_type": "stream",
     "text": [
      "Epoch 43,phase: Training: 44it [00:17,  2.46it/s, train acc:  0.106,train loss:  2.397]  "
     ]
    },
    {
     "name": "stdout",
     "output_type": "stream",
     "text": [
      "Not a better score\n"
     ]
    },
    {
     "name": "stderr",
     "output_type": "stream",
     "text": [
      "Epoch 44,phase: Training: 45it [00:17,  2.44it/s, train acc:  0.089,train loss:  2.398]  "
     ]
    },
    {
     "name": "stdout",
     "output_type": "stream",
     "text": [
      "Not a better score\n"
     ]
    },
    {
     "name": "stderr",
     "output_type": "stream",
     "text": [
      "Epoch 45,phase: Training: 46it [00:18,  2.50it/s, train acc:  0.089,train loss:  2.398]  "
     ]
    },
    {
     "name": "stdout",
     "output_type": "stream",
     "text": [
      "Not a better score\n"
     ]
    },
    {
     "name": "stderr",
     "output_type": "stream",
     "text": [
      "Epoch 46,phase: Training: 47it [00:18,  2.58it/s, train acc:  0.089,train loss:  2.398]  "
     ]
    },
    {
     "name": "stdout",
     "output_type": "stream",
     "text": [
      "Not a better score\n"
     ]
    },
    {
     "name": "stderr",
     "output_type": "stream",
     "text": [
      "Epoch 47,phase: Training: 48it [00:18,  2.58it/s, train acc:  0.103,train loss:  2.398]  "
     ]
    },
    {
     "name": "stdout",
     "output_type": "stream",
     "text": [
      "Not a better score\n"
     ]
    },
    {
     "name": "stderr",
     "output_type": "stream",
     "text": [
      "Epoch 48,phase: Training: 49it [00:19,  2.60it/s, train acc:  0.077,train loss:  2.398]  "
     ]
    },
    {
     "name": "stdout",
     "output_type": "stream",
     "text": [
      "Not a better score\n"
     ]
    },
    {
     "name": "stderr",
     "output_type": "stream",
     "text": [
      "Epoch 49,phase: Training: 50it [00:19,  2.58it/s, train acc:  0.072,train loss:  2.398]  "
     ]
    },
    {
     "name": "stdout",
     "output_type": "stream",
     "text": [
      "Not a better score\n"
     ]
    },
    {
     "name": "stderr",
     "output_type": "stream",
     "text": [
      "Epoch 50,phase: Training: 51it [00:19,  2.59it/s, train acc:  0.062,train loss:  2.398]  "
     ]
    },
    {
     "name": "stdout",
     "output_type": "stream",
     "text": [
      "Not a better score\n"
     ]
    },
    {
     "name": "stderr",
     "output_type": "stream",
     "text": [
      "Epoch 51,phase: Training: 52it [00:20,  2.59it/s, train acc:  0.089,train loss:  2.398]  "
     ]
    },
    {
     "name": "stdout",
     "output_type": "stream",
     "text": [
      "Not a better score\n"
     ]
    },
    {
     "name": "stderr",
     "output_type": "stream",
     "text": [
      "Epoch 52,phase: Training: 53it [00:20,  2.64it/s, train acc:  0.072,train loss:  2.398]  "
     ]
    },
    {
     "name": "stdout",
     "output_type": "stream",
     "text": [
      "Not a better score\n"
     ]
    },
    {
     "name": "stderr",
     "output_type": "stream",
     "text": [
      "Epoch 53,phase: Training: 54it [00:21,  2.63it/s, train acc:  0.082,train loss:  2.398]  "
     ]
    },
    {
     "name": "stdout",
     "output_type": "stream",
     "text": [
      "Not a better score\n"
     ]
    },
    {
     "name": "stderr",
     "output_type": "stream",
     "text": [
      "Epoch 54,phase: Training: 55it [00:21,  2.58it/s, train acc:  0.082,train loss:  2.398]  "
     ]
    },
    {
     "name": "stdout",
     "output_type": "stream",
     "text": [
      "Not a better score\n"
     ]
    },
    {
     "name": "stderr",
     "output_type": "stream",
     "text": [
      "Epoch 55,phase: Training: 56it [00:21,  2.60it/s, train acc:  0.094,train loss:  2.398]  "
     ]
    },
    {
     "name": "stdout",
     "output_type": "stream",
     "text": [
      "Not a better score\n"
     ]
    },
    {
     "name": "stderr",
     "output_type": "stream",
     "text": [
      "Epoch 56,phase: Training: 57it [00:22,  2.65it/s, train acc:  0.077,train loss:  2.398]  "
     ]
    },
    {
     "name": "stdout",
     "output_type": "stream",
     "text": [
      "Not a better score\n"
     ]
    },
    {
     "name": "stderr",
     "output_type": "stream",
     "text": [
      "Epoch 57,phase: Training: 58it [00:22,  2.65it/s, train acc:  0.082,train loss:  2.398]  "
     ]
    },
    {
     "name": "stdout",
     "output_type": "stream",
     "text": [
      "Not a better score\n"
     ]
    },
    {
     "name": "stderr",
     "output_type": "stream",
     "text": [
      "Epoch 58,phase: Training: 59it [00:22,  2.65it/s, train acc:  0.091,train loss:  2.398]  "
     ]
    },
    {
     "name": "stdout",
     "output_type": "stream",
     "text": [
      "Not a better score\n"
     ]
    },
    {
     "name": "stderr",
     "output_type": "stream",
     "text": [
      "Epoch 59,phase: Training: 60it [00:23,  2.62it/s, train acc:  0.085,train loss:  2.398]  "
     ]
    },
    {
     "name": "stdout",
     "output_type": "stream",
     "text": [
      "Not a better score\n"
     ]
    },
    {
     "name": "stderr",
     "output_type": "stream",
     "text": [
      "Epoch 60,phase: Training: 61it [00:23,  2.63it/s, train acc:  0.062,train loss:  2.398]  "
     ]
    },
    {
     "name": "stdout",
     "output_type": "stream",
     "text": [
      "Not a better score\n"
     ]
    },
    {
     "name": "stderr",
     "output_type": "stream",
     "text": [
      "Epoch 61,phase: Training: 62it [00:24,  2.65it/s, train acc:  0.074,train loss:  2.398]  "
     ]
    },
    {
     "name": "stdout",
     "output_type": "stream",
     "text": [
      "Not a better score\n"
     ]
    },
    {
     "name": "stderr",
     "output_type": "stream",
     "text": [
      "Epoch 62,phase: Training: 63it [00:24,  2.49it/s, train acc:  0.073,train loss:  2.399]  "
     ]
    },
    {
     "name": "stdout",
     "output_type": "stream",
     "text": [
      "Not a better score\n"
     ]
    },
    {
     "name": "stderr",
     "output_type": "stream",
     "text": [
      "Epoch 63,phase: Training: 64it [00:24,  2.44it/s, train acc:  0.062,train loss:  2.399]  "
     ]
    },
    {
     "name": "stdout",
     "output_type": "stream",
     "text": [
      "Not a better score\n"
     ]
    },
    {
     "name": "stderr",
     "output_type": "stream",
     "text": [
      "Epoch 64,phase: Training: 65it [00:25,  2.32it/s, train acc:  0.080,train loss:  2.398]  "
     ]
    },
    {
     "name": "stdout",
     "output_type": "stream",
     "text": [
      "Not a better score\n"
     ]
    },
    {
     "name": "stderr",
     "output_type": "stream",
     "text": [
      "Epoch 65,phase: Training: 66it [00:25,  2.31it/s, train acc:  0.074,train loss:  2.398]  "
     ]
    },
    {
     "name": "stdout",
     "output_type": "stream",
     "text": [
      "Not a better score\n"
     ]
    },
    {
     "name": "stderr",
     "output_type": "stream",
     "text": [
      "Epoch 66,phase: Training: 67it [00:26,  2.21it/s, train acc:  0.085,train loss:  2.398]  "
     ]
    },
    {
     "name": "stdout",
     "output_type": "stream",
     "text": [
      "Not a better score\n"
     ]
    },
    {
     "name": "stderr",
     "output_type": "stream",
     "text": [
      "Epoch 67,phase: Training: 68it [00:26,  2.21it/s, train acc:  0.045,train loss:  2.399]  "
     ]
    },
    {
     "name": "stdout",
     "output_type": "stream",
     "text": [
      "Not a better score\n"
     ]
    },
    {
     "name": "stderr",
     "output_type": "stream",
     "text": [
      "Epoch 68,phase: Training: 69it [00:27,  2.21it/s, train acc:  0.077,train loss:  2.398]  "
     ]
    },
    {
     "name": "stdout",
     "output_type": "stream",
     "text": [
      "Not a better score\n"
     ]
    },
    {
     "name": "stderr",
     "output_type": "stream",
     "text": [
      "Epoch 69,phase: Training: 70it [00:27,  2.25it/s, train acc:  0.068,train loss:  2.398]  "
     ]
    },
    {
     "name": "stdout",
     "output_type": "stream",
     "text": [
      "Not a better score\n"
     ]
    },
    {
     "name": "stderr",
     "output_type": "stream",
     "text": [
      "Epoch 70,phase: Training: 71it [00:28,  2.31it/s, train acc:  0.094,train loss:  2.398]  "
     ]
    },
    {
     "name": "stdout",
     "output_type": "stream",
     "text": [
      "Not a better score\n"
     ]
    },
    {
     "name": "stderr",
     "output_type": "stream",
     "text": [
      "Epoch 71,phase: Training: 72it [00:28,  2.43it/s, train acc:  0.079,train loss:  2.398]  "
     ]
    },
    {
     "name": "stdout",
     "output_type": "stream",
     "text": [
      "Not a better score\n"
     ]
    },
    {
     "name": "stderr",
     "output_type": "stream",
     "text": [
      "Epoch 72,phase: Training: 73it [00:28,  2.49it/s, train acc:  0.085,train loss:  2.398]  "
     ]
    },
    {
     "name": "stdout",
     "output_type": "stream",
     "text": [
      "Not a better score\n"
     ]
    },
    {
     "name": "stderr",
     "output_type": "stream",
     "text": [
      "Epoch 73,phase: Training: 74it [00:29,  2.51it/s, train acc:  0.072,train loss:  2.398]  "
     ]
    },
    {
     "name": "stdout",
     "output_type": "stream",
     "text": [
      "Not a better score\n"
     ]
    },
    {
     "name": "stderr",
     "output_type": "stream",
     "text": [
      "Epoch 74,phase: Training: 75it [00:29,  2.49it/s, train acc:  0.062,train loss:  2.398]  "
     ]
    },
    {
     "name": "stdout",
     "output_type": "stream",
     "text": [
      "Not a better score\n"
     ]
    },
    {
     "name": "stderr",
     "output_type": "stream",
     "text": [
      "Epoch 75,phase: Training: 76it [00:30,  2.53it/s, train acc:  0.099,train loss:  2.399]  "
     ]
    },
    {
     "name": "stdout",
     "output_type": "stream",
     "text": [
      "Not a better score\n"
     ]
    },
    {
     "name": "stderr",
     "output_type": "stream",
     "text": [
      "Epoch 76,phase: Training: 77it [00:30,  2.53it/s, train acc:  0.057,train loss:  2.398]  "
     ]
    },
    {
     "name": "stdout",
     "output_type": "stream",
     "text": [
      "Not a better score\n"
     ]
    },
    {
     "name": "stderr",
     "output_type": "stream",
     "text": [
      "Epoch 77,phase: Training: 78it [00:30,  2.45it/s, train acc:  0.073,train loss:  2.398]  "
     ]
    },
    {
     "name": "stdout",
     "output_type": "stream",
     "text": [
      "Not a better score\n"
     ]
    },
    {
     "name": "stderr",
     "output_type": "stream",
     "text": [
      "Epoch 78,phase: Training: 79it [00:31,  2.39it/s, train acc:  0.068,train loss:  2.398]  "
     ]
    },
    {
     "name": "stdout",
     "output_type": "stream",
     "text": [
      "Not a better score\n"
     ]
    },
    {
     "name": "stderr",
     "output_type": "stream",
     "text": [
      "Epoch 79,phase: Training: 80it [00:31,  2.27it/s, train acc:  0.051,train loss:  2.398]  "
     ]
    },
    {
     "name": "stdout",
     "output_type": "stream",
     "text": [
      "Not a better score\n"
     ]
    },
    {
     "name": "stderr",
     "output_type": "stream",
     "text": [
      "Epoch 80,phase: Training: 81it [00:32,  2.18it/s, train acc:  0.085,train loss:  2.398]  "
     ]
    },
    {
     "name": "stdout",
     "output_type": "stream",
     "text": [
      "Not a better score\n"
     ]
    },
    {
     "name": "stderr",
     "output_type": "stream",
     "text": [
      "Epoch 81,phase: Training: 82it [00:32,  2.18it/s, train acc:  0.068,train loss:  2.398]  "
     ]
    },
    {
     "name": "stdout",
     "output_type": "stream",
     "text": [
      "Not a better score\n"
     ]
    },
    {
     "name": "stderr",
     "output_type": "stream",
     "text": [
      "Epoch 82,phase: Training: 83it [00:33,  2.21it/s, train acc:  0.068,train loss:  2.398]  "
     ]
    },
    {
     "name": "stdout",
     "output_type": "stream",
     "text": [
      "Not a better score\n"
     ]
    },
    {
     "name": "stderr",
     "output_type": "stream",
     "text": [
      "Epoch 83,phase: Training: 84it [00:33,  2.18it/s, train acc:  0.075,train loss:  2.398]  "
     ]
    },
    {
     "name": "stdout",
     "output_type": "stream",
     "text": [
      "Not a better score\n"
     ]
    },
    {
     "name": "stderr",
     "output_type": "stream",
     "text": [
      "Epoch 84,phase: Training: 85it [00:34,  2.23it/s, train acc:  0.062,train loss:  2.398]  "
     ]
    },
    {
     "name": "stdout",
     "output_type": "stream",
     "text": [
      "Not a better score\n"
     ]
    },
    {
     "name": "stderr",
     "output_type": "stream",
     "text": [
      "Epoch 85,phase: Training: 86it [00:34,  2.31it/s, train acc:  0.067,train loss:  2.398]  "
     ]
    },
    {
     "name": "stdout",
     "output_type": "stream",
     "text": [
      "Not a better score\n"
     ]
    },
    {
     "name": "stderr",
     "output_type": "stream",
     "text": [
      "Epoch 86,phase: Training: 87it [00:34,  2.39it/s, train acc:  0.074,train loss:  2.398]  "
     ]
    },
    {
     "name": "stdout",
     "output_type": "stream",
     "text": [
      "Not a better score\n"
     ]
    },
    {
     "name": "stderr",
     "output_type": "stream",
     "text": [
      "Epoch 87,phase: Training: 88it [00:35,  2.35it/s, train acc:  0.094,train loss:  2.398]  "
     ]
    },
    {
     "name": "stdout",
     "output_type": "stream",
     "text": [
      "Not a better score\n"
     ]
    },
    {
     "name": "stderr",
     "output_type": "stream",
     "text": [
      "Epoch 88,phase: Training: 89it [00:35,  2.33it/s, train acc:  0.099,train loss:  2.398]  "
     ]
    },
    {
     "name": "stdout",
     "output_type": "stream",
     "text": [
      "Not a better score\n"
     ]
    },
    {
     "name": "stderr",
     "output_type": "stream",
     "text": [
      "Epoch 89,phase: Training: 90it [00:36,  2.33it/s, train acc:  0.096,train loss:  2.398]  "
     ]
    },
    {
     "name": "stdout",
     "output_type": "stream",
     "text": [
      "Not a better score\n"
     ]
    },
    {
     "name": "stderr",
     "output_type": "stream",
     "text": [
      "Epoch 90,phase: Training: 91it [00:36,  2.35it/s, train acc:  0.067,train loss:  2.398]  "
     ]
    },
    {
     "name": "stdout",
     "output_type": "stream",
     "text": [
      "Not a better score\n"
     ]
    },
    {
     "name": "stderr",
     "output_type": "stream",
     "text": [
      "Epoch 91,phase: Training: 92it [00:37,  2.41it/s, train acc:  0.062,train loss:  2.398]  "
     ]
    },
    {
     "name": "stdout",
     "output_type": "stream",
     "text": [
      "Not a better score\n"
     ]
    },
    {
     "name": "stderr",
     "output_type": "stream",
     "text": [
      "Epoch 92,phase: Training: 93it [00:37,  2.30it/s, train acc:  0.074,train loss:  2.398]  "
     ]
    },
    {
     "name": "stdout",
     "output_type": "stream",
     "text": [
      "Not a better score\n"
     ]
    },
    {
     "name": "stderr",
     "output_type": "stream",
     "text": [
      "Epoch 93,phase: Training: 94it [00:37,  2.24it/s, train acc:  0.085,train loss:  2.398]  "
     ]
    },
    {
     "name": "stdout",
     "output_type": "stream",
     "text": [
      "Not a better score\n"
     ]
    },
    {
     "name": "stderr",
     "output_type": "stream",
     "text": [
      "Epoch 94,phase: Training: 95it [00:38,  2.34it/s, train acc:  0.091,train loss:  2.398]  "
     ]
    },
    {
     "name": "stdout",
     "output_type": "stream",
     "text": [
      "Not a better score\n"
     ]
    },
    {
     "name": "stderr",
     "output_type": "stream",
     "text": [
      "Epoch 95,phase: Training: 96it [00:38,  2.39it/s, train acc:  0.073,train loss:  2.398]  "
     ]
    },
    {
     "name": "stdout",
     "output_type": "stream",
     "text": [
      "Not a better score\n"
     ]
    },
    {
     "name": "stderr",
     "output_type": "stream",
     "text": [
      "Epoch 96,phase: Training: 97it [00:39,  2.42it/s, train acc:  0.068,train loss:  2.398]  "
     ]
    },
    {
     "name": "stdout",
     "output_type": "stream",
     "text": [
      "Not a better score\n"
     ]
    },
    {
     "name": "stderr",
     "output_type": "stream",
     "text": [
      "Epoch 97,phase: Training: 98it [00:39,  2.34it/s, train acc:  0.104,train loss:  2.398]  "
     ]
    },
    {
     "name": "stdout",
     "output_type": "stream",
     "text": [
      "Not a better score\n"
     ]
    },
    {
     "name": "stderr",
     "output_type": "stream",
     "text": [
      "Epoch 98,phase: Training: 99it [00:40,  2.33it/s, train acc:  0.062,train loss:  2.399]  "
     ]
    },
    {
     "name": "stdout",
     "output_type": "stream",
     "text": [
      "Not a better score\n"
     ]
    },
    {
     "name": "stderr",
     "output_type": "stream",
     "text": [
      "Epoch 99,phase: Training: 100it [00:40,  2.24it/s, train acc:  0.071,train loss:  2.398] "
     ]
    },
    {
     "name": "stdout",
     "output_type": "stream",
     "text": [
      "Not a better score\n"
     ]
    },
    {
     "name": "stderr",
     "output_type": "stream",
     "text": [
      "Epoch 100,phase: Training: 101it [00:40,  2.35it/s, train acc:  0.077,train loss:  2.398] "
     ]
    },
    {
     "name": "stdout",
     "output_type": "stream",
     "text": [
      "Not a better score\n"
     ]
    },
    {
     "name": "stderr",
     "output_type": "stream",
     "text": [
      "Epoch 101,phase: Training: 102it [00:41,  2.41it/s, train acc:  0.062,train loss:  2.398]  "
     ]
    },
    {
     "name": "stdout",
     "output_type": "stream",
     "text": [
      "Not a better score\n"
     ]
    },
    {
     "name": "stderr",
     "output_type": "stream",
     "text": [
      "Epoch 102,phase: Training: 103it [00:41,  2.29it/s, train acc:  0.083,train loss:  2.397]  "
     ]
    },
    {
     "name": "stdout",
     "output_type": "stream",
     "text": [
      "Not a better score\n"
     ]
    },
    {
     "name": "stderr",
     "output_type": "stream",
     "text": [
      "Epoch 103,phase: Training: 104it [00:42,  2.33it/s, train acc:  0.076,train loss:  2.398]  "
     ]
    },
    {
     "name": "stdout",
     "output_type": "stream",
     "text": [
      "Not a better score\n"
     ]
    },
    {
     "name": "stderr",
     "output_type": "stream",
     "text": [
      "Epoch 104,phase: Training: 105it [00:42,  2.39it/s, train acc:  0.071,train loss:  2.398]  "
     ]
    },
    {
     "name": "stdout",
     "output_type": "stream",
     "text": [
      "Not a better score\n"
     ]
    },
    {
     "name": "stderr",
     "output_type": "stream",
     "text": [
      "Epoch 105,phase: Training: 106it [00:42,  2.46it/s, train acc:  0.071,train loss:  2.398]  "
     ]
    },
    {
     "name": "stdout",
     "output_type": "stream",
     "text": [
      "Not a better score\n"
     ]
    },
    {
     "name": "stderr",
     "output_type": "stream",
     "text": [
      "Epoch 106,phase: Training: 107it [00:43,  2.50it/s, train acc:  0.078,train loss:  2.398]  "
     ]
    },
    {
     "name": "stdout",
     "output_type": "stream",
     "text": [
      "Not a better score\n"
     ]
    },
    {
     "name": "stderr",
     "output_type": "stream",
     "text": [
      "Epoch 107,phase: Training: 108it [00:43,  2.37it/s, train acc:  0.085,train loss:  2.398]  "
     ]
    },
    {
     "name": "stdout",
     "output_type": "stream",
     "text": [
      "Not a better score\n"
     ]
    },
    {
     "name": "stderr",
     "output_type": "stream",
     "text": [
      "Epoch 108,phase: Training: 109it [00:44,  2.30it/s, train acc:  0.091,train loss:  2.398]  "
     ]
    },
    {
     "name": "stdout",
     "output_type": "stream",
     "text": [
      "Not a better score\n"
     ]
    },
    {
     "name": "stderr",
     "output_type": "stream",
     "text": [
      "Epoch 109,phase: Training: 110it [00:44,  2.38it/s, train acc:  0.089,train loss:  2.398]  "
     ]
    },
    {
     "name": "stdout",
     "output_type": "stream",
     "text": [
      "Not a better score\n"
     ]
    },
    {
     "name": "stderr",
     "output_type": "stream",
     "text": [
      "Epoch 110,phase: Training: 111it [00:45,  2.44it/s, train acc:  0.087,train loss:  2.398]  "
     ]
    },
    {
     "name": "stdout",
     "output_type": "stream",
     "text": [
      "Not a better score\n"
     ]
    },
    {
     "name": "stderr",
     "output_type": "stream",
     "text": [
      "Epoch 111,phase: Training: 112it [00:45,  2.49it/s, train acc:  0.072,train loss:  2.398]  "
     ]
    },
    {
     "name": "stdout",
     "output_type": "stream",
     "text": [
      "Not a better score\n"
     ]
    },
    {
     "name": "stderr",
     "output_type": "stream",
     "text": [
      "Epoch 112,phase: Training: 113it [00:45,  2.53it/s, train acc:  0.078,train loss:  2.399]  "
     ]
    },
    {
     "name": "stdout",
     "output_type": "stream",
     "text": [
      "Not a better score\n"
     ]
    },
    {
     "name": "stderr",
     "output_type": "stream",
     "text": [
      "Epoch 113,phase: Training: 114it [00:46,  2.48it/s, train acc:  0.077,train loss:  2.398]  "
     ]
    },
    {
     "name": "stdout",
     "output_type": "stream",
     "text": [
      "Not a better score\n"
     ]
    },
    {
     "name": "stderr",
     "output_type": "stream",
     "text": [
      "Epoch 114,phase: Training: 115it [00:46,  2.50it/s, train acc:  0.071,train loss:  2.398]  "
     ]
    },
    {
     "name": "stdout",
     "output_type": "stream",
     "text": [
      "Not a better score\n"
     ]
    },
    {
     "name": "stderr",
     "output_type": "stream",
     "text": [
      "Epoch 115,phase: Training: 116it [00:46,  2.57it/s, train acc:  0.077,train loss:  2.398]  "
     ]
    },
    {
     "name": "stdout",
     "output_type": "stream",
     "text": [
      "Not a better score\n"
     ]
    },
    {
     "name": "stderr",
     "output_type": "stream",
     "text": [
      "Epoch 116,phase: Training: 117it [00:47,  2.60it/s, train acc:  0.072,train loss:  2.398]  "
     ]
    },
    {
     "name": "stdout",
     "output_type": "stream",
     "text": [
      "Not a better score\n"
     ]
    },
    {
     "name": "stderr",
     "output_type": "stream",
     "text": [
      "Epoch 117,phase: Training: 118it [00:47,  2.58it/s, train acc:  0.087,train loss:  2.398]  "
     ]
    },
    {
     "name": "stdout",
     "output_type": "stream",
     "text": [
      "Not a better score\n"
     ]
    },
    {
     "name": "stderr",
     "output_type": "stream",
     "text": [
      "Epoch 118,phase: Training: 119it [00:48,  2.54it/s, train acc:  0.072,train loss:  2.398]  "
     ]
    },
    {
     "name": "stdout",
     "output_type": "stream",
     "text": [
      "Not a better score\n"
     ]
    },
    {
     "name": "stderr",
     "output_type": "stream",
     "text": [
      "Epoch 119,phase: Training: 120it [00:48,  2.54it/s, train acc:  0.058,train loss:  2.399]  "
     ]
    },
    {
     "name": "stdout",
     "output_type": "stream",
     "text": [
      "Not a better score\n"
     ]
    },
    {
     "name": "stderr",
     "output_type": "stream",
     "text": [
      "Epoch 120,phase: Training: 121it [00:48,  2.54it/s, train acc:  0.047,train loss:  2.398]  "
     ]
    },
    {
     "name": "stdout",
     "output_type": "stream",
     "text": [
      "Not a better score\n"
     ]
    },
    {
     "name": "stderr",
     "output_type": "stream",
     "text": [
      "Epoch 121,phase: Training: 122it [00:49,  2.45it/s, train acc:  0.089,train loss:  2.398]  "
     ]
    },
    {
     "name": "stdout",
     "output_type": "stream",
     "text": [
      "Not a better score\n"
     ]
    },
    {
     "name": "stderr",
     "output_type": "stream",
     "text": [
      "Epoch 122,phase: Training: 123it [00:49,  2.40it/s, train acc:  0.080,train loss:  2.398]  "
     ]
    },
    {
     "name": "stdout",
     "output_type": "stream",
     "text": [
      "Not a better score\n"
     ]
    },
    {
     "name": "stderr",
     "output_type": "stream",
     "text": [
      "Epoch 123,phase: Training: 124it [00:50,  2.37it/s, train acc:  0.074,train loss:  2.398]  "
     ]
    },
    {
     "name": "stdout",
     "output_type": "stream",
     "text": [
      "Not a better score\n"
     ]
    },
    {
     "name": "stderr",
     "output_type": "stream",
     "text": [
      "Epoch 124,phase: Training: 125it [00:50,  2.23it/s, train acc:  0.097,train loss:  2.398]  "
     ]
    },
    {
     "name": "stdout",
     "output_type": "stream",
     "text": [
      "Not a better score\n"
     ]
    },
    {
     "name": "stderr",
     "output_type": "stream",
     "text": [
      "Epoch 125,phase: Training: 126it [00:51,  2.20it/s, train acc:  0.082,train loss:  2.398]  "
     ]
    },
    {
     "name": "stdout",
     "output_type": "stream",
     "text": [
      "Not a better score\n"
     ]
    },
    {
     "name": "stderr",
     "output_type": "stream",
     "text": [
      "Epoch 126,phase: Training: 127it [00:51,  2.32it/s, train acc:  0.067,train loss:  2.399]  "
     ]
    },
    {
     "name": "stdout",
     "output_type": "stream",
     "text": [
      "Not a better score\n"
     ]
    },
    {
     "name": "stderr",
     "output_type": "stream",
     "text": [
      "Epoch 127,phase: Training: 128it [00:52,  2.42it/s, train acc:  0.077,train loss:  2.398]  "
     ]
    },
    {
     "name": "stdout",
     "output_type": "stream",
     "text": [
      "Not a better score\n"
     ]
    },
    {
     "name": "stderr",
     "output_type": "stream",
     "text": [
      "Epoch 128,phase: Training: 129it [00:52,  2.44it/s, train acc:  0.091,train loss:  2.398]  "
     ]
    },
    {
     "name": "stdout",
     "output_type": "stream",
     "text": [
      "Not a better score\n"
     ]
    },
    {
     "name": "stderr",
     "output_type": "stream",
     "text": [
      "Epoch 129,phase: Training: 130it [00:52,  2.36it/s, train acc:  0.069,train loss:  2.399]  "
     ]
    },
    {
     "name": "stdout",
     "output_type": "stream",
     "text": [
      "Not a better score\n"
     ]
    },
    {
     "name": "stderr",
     "output_type": "stream",
     "text": [
      "Epoch 130,phase: Training: 131it [00:53,  2.28it/s, train acc:  0.074,train loss:  2.398]  "
     ]
    },
    {
     "name": "stdout",
     "output_type": "stream",
     "text": [
      "Not a better score\n"
     ]
    },
    {
     "name": "stderr",
     "output_type": "stream",
     "text": [
      "Epoch 131,phase: Training: 132it [00:53,  2.29it/s, train acc:  0.053,train loss:  2.398]  "
     ]
    },
    {
     "name": "stdout",
     "output_type": "stream",
     "text": [
      "Not a better score\n"
     ]
    },
    {
     "name": "stderr",
     "output_type": "stream",
     "text": [
      "Epoch 132,phase: Training: 133it [00:54,  2.39it/s, train acc:  0.082,train loss:  2.398]  "
     ]
    },
    {
     "name": "stdout",
     "output_type": "stream",
     "text": [
      "Not a better score\n"
     ]
    },
    {
     "name": "stderr",
     "output_type": "stream",
     "text": [
      "Epoch 133,phase: Training: 134it [00:54,  2.46it/s, train acc:  0.083,train loss:  2.398]  "
     ]
    },
    {
     "name": "stdout",
     "output_type": "stream",
     "text": [
      "Not a better score\n"
     ]
    },
    {
     "name": "stderr",
     "output_type": "stream",
     "text": [
      "Epoch 134,phase: Training: 135it [00:54,  2.41it/s, train acc:  0.083,train loss:  2.398]  "
     ]
    },
    {
     "name": "stdout",
     "output_type": "stream",
     "text": [
      "Not a better score\n"
     ]
    },
    {
     "name": "stderr",
     "output_type": "stream",
     "text": [
      "Epoch 135,phase: Training: 136it [00:55,  2.30it/s, train acc:  0.082,train loss:  2.398]  "
     ]
    },
    {
     "name": "stdout",
     "output_type": "stream",
     "text": [
      "Not a better score\n"
     ]
    },
    {
     "name": "stderr",
     "output_type": "stream",
     "text": [
      "Epoch 136,phase: Training: 137it [00:55,  2.33it/s, train acc:  0.077,train loss:  2.398]  "
     ]
    },
    {
     "name": "stdout",
     "output_type": "stream",
     "text": [
      "Not a better score\n"
     ]
    },
    {
     "name": "stderr",
     "output_type": "stream",
     "text": [
      "Epoch 137,phase: Training: 138it [00:56,  2.38it/s, train acc:  0.058,train loss:  2.398]  "
     ]
    },
    {
     "name": "stdout",
     "output_type": "stream",
     "text": [
      "Not a better score\n"
     ]
    },
    {
     "name": "stderr",
     "output_type": "stream",
     "text": [
      "Epoch 138,phase: Training: 139it [00:56,  2.44it/s, train acc:  0.094,train loss:  2.398]  "
     ]
    },
    {
     "name": "stdout",
     "output_type": "stream",
     "text": [
      "Not a better score\n"
     ]
    },
    {
     "name": "stderr",
     "output_type": "stream",
     "text": [
      "Epoch 139,phase: Training: 140it [00:57,  2.43it/s, train acc:  0.077,train loss:  2.398]  "
     ]
    },
    {
     "name": "stdout",
     "output_type": "stream",
     "text": [
      "Not a better score\n"
     ]
    },
    {
     "name": "stderr",
     "output_type": "stream",
     "text": [
      "Epoch 140,phase: Training: 141it [00:57,  2.47it/s, train acc:  0.078,train loss:  2.398]  "
     ]
    },
    {
     "name": "stdout",
     "output_type": "stream",
     "text": [
      "Not a better score\n"
     ]
    },
    {
     "name": "stderr",
     "output_type": "stream",
     "text": [
      "Epoch 141,phase: Training: 142it [00:57,  2.55it/s, train acc:  0.096,train loss:  2.398]  "
     ]
    },
    {
     "name": "stdout",
     "output_type": "stream",
     "text": [
      "Not a better score\n"
     ]
    },
    {
     "name": "stderr",
     "output_type": "stream",
     "text": [
      "Epoch 142,phase: Training: 143it [00:58,  2.55it/s, train acc:  0.054,train loss:  2.398]  "
     ]
    },
    {
     "name": "stdout",
     "output_type": "stream",
     "text": [
      "Not a better score\n"
     ]
    },
    {
     "name": "stderr",
     "output_type": "stream",
     "text": [
      "Epoch 143,phase: Training: 144it [00:58,  2.64it/s, train acc:  0.067,train loss:  2.398]  "
     ]
    },
    {
     "name": "stdout",
     "output_type": "stream",
     "text": [
      "Not a better score\n"
     ]
    },
    {
     "name": "stderr",
     "output_type": "stream",
     "text": [
      "Epoch 144,phase: Training: 145it [00:58,  2.58it/s, train acc:  0.082,train loss:  2.398]  "
     ]
    },
    {
     "name": "stdout",
     "output_type": "stream",
     "text": [
      "Not a better score\n"
     ]
    },
    {
     "name": "stderr",
     "output_type": "stream",
     "text": [
      "Epoch 145,phase: Training: 146it [00:59,  2.57it/s, train acc:  0.089,train loss:  2.398]  "
     ]
    },
    {
     "name": "stdout",
     "output_type": "stream",
     "text": [
      "Not a better score\n"
     ]
    },
    {
     "name": "stderr",
     "output_type": "stream",
     "text": [
      "Epoch 146,phase: Training: 147it [00:59,  2.56it/s, train acc:  0.087,train loss:  2.398]  "
     ]
    },
    {
     "name": "stdout",
     "output_type": "stream",
     "text": [
      "Not a better score\n"
     ]
    },
    {
     "name": "stderr",
     "output_type": "stream",
     "text": [
      "Epoch 147,phase: Training: 148it [01:00,  2.45it/s, train acc:  0.099,train loss:  2.398]  "
     ]
    },
    {
     "name": "stdout",
     "output_type": "stream",
     "text": [
      "Not a better score\n"
     ]
    },
    {
     "name": "stderr",
     "output_type": "stream",
     "text": [
      "Epoch 148,phase: Training: 149it [01:00,  2.40it/s, train acc:  0.091,train loss:  2.398]  "
     ]
    },
    {
     "name": "stdout",
     "output_type": "stream",
     "text": [
      "Not a better score\n"
     ]
    },
    {
     "name": "stderr",
     "output_type": "stream",
     "text": [
      "Epoch 149,phase: Training: 150it [01:01,  2.39it/s, train acc:  0.067,train loss:  2.398]  "
     ]
    },
    {
     "name": "stdout",
     "output_type": "stream",
     "text": [
      "Not a better score\n"
     ]
    },
    {
     "name": "stderr",
     "output_type": "stream",
     "text": [
      "Epoch 150,phase: Training: 151it [01:01,  2.37it/s, train acc:  0.062,train loss:  2.398]  "
     ]
    },
    {
     "name": "stdout",
     "output_type": "stream",
     "text": [
      "Not a better score\n"
     ]
    },
    {
     "name": "stderr",
     "output_type": "stream",
     "text": [
      "Epoch 151,phase: Training: 152it [01:01,  2.40it/s, train acc:  0.072,train loss:  2.398]  "
     ]
    },
    {
     "name": "stdout",
     "output_type": "stream",
     "text": [
      "Not a better score\n"
     ]
    },
    {
     "name": "stderr",
     "output_type": "stream",
     "text": [
      "Epoch 152,phase: Training: 153it [01:02,  2.40it/s, train acc:  0.062,train loss:  2.399]  "
     ]
    },
    {
     "name": "stdout",
     "output_type": "stream",
     "text": [
      "Not a better score\n"
     ]
    },
    {
     "name": "stderr",
     "output_type": "stream",
     "text": [
      "Epoch 153,phase: Training: 154it [01:02,  2.43it/s, train acc:  0.071,train loss:  2.398]  "
     ]
    },
    {
     "name": "stdout",
     "output_type": "stream",
     "text": [
      "Not a better score\n"
     ]
    },
    {
     "name": "stderr",
     "output_type": "stream",
     "text": [
      "Epoch 154,phase: Training: 155it [01:03,  2.47it/s, train acc:  0.086,train loss:  2.398]  "
     ]
    },
    {
     "name": "stdout",
     "output_type": "stream",
     "text": [
      "Not a better score\n"
     ]
    },
    {
     "name": "stderr",
     "output_type": "stream",
     "text": [
      "Epoch 155,phase: Training: 156it [01:03,  2.30it/s, train acc:  0.068,train loss:  2.398]  "
     ]
    },
    {
     "name": "stdout",
     "output_type": "stream",
     "text": [
      "Not a better score\n"
     ]
    },
    {
     "name": "stderr",
     "output_type": "stream",
     "text": [
      "Epoch 156,phase: Training: 157it [01:04,  2.24it/s, train acc:  0.074,train loss:  2.397]  "
     ]
    },
    {
     "name": "stdout",
     "output_type": "stream",
     "text": [
      "Not a better score\n"
     ]
    },
    {
     "name": "stderr",
     "output_type": "stream",
     "text": [
      "Epoch 157,phase: Training: 158it [01:04,  2.25it/s, train acc:  0.073,train loss:  2.399]  "
     ]
    },
    {
     "name": "stdout",
     "output_type": "stream",
     "text": [
      "Not a better score\n"
     ]
    },
    {
     "name": "stderr",
     "output_type": "stream",
     "text": [
      "Epoch 158,phase: Training: 159it [01:04,  2.28it/s, train acc:  0.089,train loss:  2.398]  "
     ]
    },
    {
     "name": "stdout",
     "output_type": "stream",
     "text": [
      "Not a better score\n"
     ]
    },
    {
     "name": "stderr",
     "output_type": "stream",
     "text": [
      "Epoch 159,phase: Training: 160it [01:05,  2.31it/s, train acc:  0.083,train loss:  2.398]  "
     ]
    },
    {
     "name": "stdout",
     "output_type": "stream",
     "text": [
      "Not a better score\n"
     ]
    },
    {
     "name": "stderr",
     "output_type": "stream",
     "text": [
      "Epoch 160,phase: Training: 161it [01:05,  2.37it/s, train acc:  0.067,train loss:  2.398]  "
     ]
    },
    {
     "name": "stdout",
     "output_type": "stream",
     "text": [
      "Not a better score\n"
     ]
    },
    {
     "name": "stderr",
     "output_type": "stream",
     "text": [
      "Epoch 161,phase: Training: 162it [01:06,  2.40it/s, train acc:  0.085,train loss:  2.398]  "
     ]
    },
    {
     "name": "stdout",
     "output_type": "stream",
     "text": [
      "Not a better score\n"
     ]
    },
    {
     "name": "stderr",
     "output_type": "stream",
     "text": [
      "Epoch 162,phase: Training: 163it [01:06,  2.45it/s, train acc:  0.091,train loss:  2.398]  "
     ]
    },
    {
     "name": "stdout",
     "output_type": "stream",
     "text": [
      "Not a better score\n"
     ]
    },
    {
     "name": "stderr",
     "output_type": "stream",
     "text": [
      "Epoch 163,phase: Training: 164it [01:06,  2.50it/s, train acc:  0.083,train loss:  2.398]  "
     ]
    },
    {
     "name": "stdout",
     "output_type": "stream",
     "text": [
      "Not a better score\n"
     ]
    },
    {
     "name": "stderr",
     "output_type": "stream",
     "text": [
      "Epoch 164,phase: Training: 165it [01:07,  2.46it/s, train acc:  0.076,train loss:  2.398]  "
     ]
    },
    {
     "name": "stdout",
     "output_type": "stream",
     "text": [
      "Not a better score\n"
     ]
    },
    {
     "name": "stderr",
     "output_type": "stream",
     "text": [
      "Epoch 165,phase: Training: 166it [01:07,  2.48it/s, train acc:  0.048,train loss:  2.398]  "
     ]
    },
    {
     "name": "stdout",
     "output_type": "stream",
     "text": [
      "Not a better score\n"
     ]
    },
    {
     "name": "stderr",
     "output_type": "stream",
     "text": [
      "Epoch 166,phase: Training: 167it [01:08,  2.47it/s, train acc:  0.094,train loss:  2.397]  "
     ]
    },
    {
     "name": "stdout",
     "output_type": "stream",
     "text": [
      "Not a better score\n"
     ]
    },
    {
     "name": "stderr",
     "output_type": "stream",
     "text": [
      "Epoch 167,phase: Training: 168it [01:08,  2.51it/s, train acc:  0.094,train loss:  2.398]  "
     ]
    },
    {
     "name": "stdout",
     "output_type": "stream",
     "text": [
      "Not a better score\n"
     ]
    },
    {
     "name": "stderr",
     "output_type": "stream",
     "text": [
      "Epoch 168,phase: Training: 169it [01:08,  2.50it/s, train acc:  0.091,train loss:  2.397]  "
     ]
    },
    {
     "name": "stdout",
     "output_type": "stream",
     "text": [
      "Not a better score\n"
     ]
    },
    {
     "name": "stderr",
     "output_type": "stream",
     "text": [
      "Epoch 169,phase: Training: 170it [01:09,  2.43it/s, train acc:  0.082,train loss:  2.398]  "
     ]
    },
    {
     "name": "stdout",
     "output_type": "stream",
     "text": [
      "Not a better score\n"
     ]
    },
    {
     "name": "stderr",
     "output_type": "stream",
     "text": [
      "Epoch 170,phase: Training: 171it [01:09,  2.43it/s, train acc:  0.068,train loss:  2.398]  "
     ]
    },
    {
     "name": "stdout",
     "output_type": "stream",
     "text": [
      "Not a better score\n"
     ]
    },
    {
     "name": "stderr",
     "output_type": "stream",
     "text": [
      "Epoch 171,phase: Training: 172it [01:10,  2.23it/s, train acc:  0.049,train loss:  2.398]  "
     ]
    },
    {
     "name": "stdout",
     "output_type": "stream",
     "text": [
      "Not a better score\n"
     ]
    },
    {
     "name": "stderr",
     "output_type": "stream",
     "text": [
      "Epoch 172,phase: Training: 173it [01:10,  2.02it/s, train acc:  0.062,train loss:  2.397]  "
     ]
    },
    {
     "name": "stdout",
     "output_type": "stream",
     "text": [
      "Not a better score\n"
     ]
    },
    {
     "name": "stderr",
     "output_type": "stream",
     "text": [
      "Epoch 173,phase: Training: 174it [01:11,  1.79it/s, train acc:  0.109,train loss:  2.398]  "
     ]
    },
    {
     "name": "stdout",
     "output_type": "stream",
     "text": [
      "Not a better score\n"
     ]
    },
    {
     "name": "stderr",
     "output_type": "stream",
     "text": [
      "Epoch 174,phase: Training: 175it [01:12,  1.71it/s, train acc:  0.094,train loss:  2.398]  "
     ]
    },
    {
     "name": "stdout",
     "output_type": "stream",
     "text": [
      "Not a better score\n"
     ]
    },
    {
     "name": "stderr",
     "output_type": "stream",
     "text": [
      "Epoch 175,phase: Training: 176it [01:12,  1.65it/s, train acc:  0.078,train loss:  2.397]  "
     ]
    },
    {
     "name": "stdout",
     "output_type": "stream",
     "text": [
      "Not a better score\n"
     ]
    },
    {
     "name": "stderr",
     "output_type": "stream",
     "text": [
      "Epoch 176,phase: Training: 177it [01:13,  1.58it/s, train acc:  0.098,train loss:  2.398]  "
     ]
    },
    {
     "name": "stdout",
     "output_type": "stream",
     "text": [
      "Not a better score\n"
     ]
    },
    {
     "name": "stderr",
     "output_type": "stream",
     "text": [
      "Epoch 177,phase: Training: 178it [01:14,  1.56it/s, train acc:  0.062,train loss:  2.399]  "
     ]
    },
    {
     "name": "stdout",
     "output_type": "stream",
     "text": [
      "Not a better score\n"
     ]
    },
    {
     "name": "stderr",
     "output_type": "stream",
     "text": [
      "Epoch 178,phase: Training: 179it [01:14,  1.58it/s, train acc:  0.102,train loss:  2.398]  "
     ]
    },
    {
     "name": "stdout",
     "output_type": "stream",
     "text": [
      "Not a better score\n"
     ]
    },
    {
     "name": "stderr",
     "output_type": "stream",
     "text": [
      "Epoch 179,phase: Training: 180it [01:15,  1.55it/s, train acc:  0.089,train loss:  2.397]  "
     ]
    },
    {
     "name": "stdout",
     "output_type": "stream",
     "text": [
      "Not a better score\n"
     ]
    },
    {
     "name": "stderr",
     "output_type": "stream",
     "text": [
      "Epoch 180,phase: Training: 181it [01:16,  1.57it/s, train acc:  0.055,train loss:  2.399]  "
     ]
    },
    {
     "name": "stdout",
     "output_type": "stream",
     "text": [
      "Not a better score\n"
     ]
    },
    {
     "name": "stderr",
     "output_type": "stream",
     "text": [
      "Epoch 181,phase: Training: 182it [01:16,  1.58it/s, train acc:  0.090,train loss:  2.398]  "
     ]
    },
    {
     "name": "stdout",
     "output_type": "stream",
     "text": [
      "Not a better score\n"
     ]
    },
    {
     "name": "stderr",
     "output_type": "stream",
     "text": [
      "Epoch 182,phase: Training: 183it [01:17,  1.59it/s, train acc:  0.098,train loss:  2.398]  "
     ]
    },
    {
     "name": "stdout",
     "output_type": "stream",
     "text": [
      "Not a better score\n"
     ]
    },
    {
     "name": "stderr",
     "output_type": "stream",
     "text": [
      "Epoch 183,phase: Training: 184it [01:18,  1.54it/s, train acc:  0.094,train loss:  2.398]  "
     ]
    },
    {
     "name": "stdout",
     "output_type": "stream",
     "text": [
      "Not a better score\n"
     ]
    },
    {
     "name": "stderr",
     "output_type": "stream",
     "text": [
      "Epoch 184,phase: Training: 185it [01:18,  1.56it/s, train acc:  0.102,train loss:  2.398]  "
     ]
    },
    {
     "name": "stdout",
     "output_type": "stream",
     "text": [
      "Not a better score\n"
     ]
    },
    {
     "name": "stderr",
     "output_type": "stream",
     "text": [
      "Epoch 185,phase: Training: 186it [01:19,  1.58it/s, train acc:  0.109,train loss:  2.398]  "
     ]
    },
    {
     "name": "stdout",
     "output_type": "stream",
     "text": [
      "Not a better score\n"
     ]
    },
    {
     "name": "stderr",
     "output_type": "stream",
     "text": [
      "Epoch 186,phase: Training: 187it [01:20,  1.57it/s, train acc:  0.083,train loss:  2.398]  "
     ]
    },
    {
     "name": "stdout",
     "output_type": "stream",
     "text": [
      "Not a better score\n"
     ]
    },
    {
     "name": "stderr",
     "output_type": "stream",
     "text": [
      "Epoch 187,phase: Training: 188it [01:20,  1.59it/s, train acc:  0.062,train loss:  2.397]  "
     ]
    },
    {
     "name": "stdout",
     "output_type": "stream",
     "text": [
      "Not a better score\n"
     ]
    },
    {
     "name": "stderr",
     "output_type": "stream",
     "text": [
      "Epoch 188,phase: Training: 189it [01:21,  1.63it/s, train acc:  0.069,train loss:  2.398]  "
     ]
    },
    {
     "name": "stdout",
     "output_type": "stream",
     "text": [
      "Not a better score\n"
     ]
    },
    {
     "name": "stderr",
     "output_type": "stream",
     "text": [
      "Epoch 189,phase: Training: 190it [01:21,  1.63it/s, train acc:  0.070,train loss:  2.399]  "
     ]
    },
    {
     "name": "stdout",
     "output_type": "stream",
     "text": [
      "Not a better score\n"
     ]
    },
    {
     "name": "stderr",
     "output_type": "stream",
     "text": [
      "Epoch 190,phase: Training: 191it [01:22,  1.65it/s, train acc:  0.056,train loss:  2.398]  "
     ]
    },
    {
     "name": "stdout",
     "output_type": "stream",
     "text": [
      "Not a better score\n"
     ]
    },
    {
     "name": "stderr",
     "output_type": "stream",
     "text": [
      "Epoch 191,phase: Training: 192it [01:23,  1.65it/s, train acc:  0.070,train loss:  2.398]  "
     ]
    },
    {
     "name": "stdout",
     "output_type": "stream",
     "text": [
      "Not a better score\n"
     ]
    },
    {
     "name": "stderr",
     "output_type": "stream",
     "text": [
      "Epoch 192,phase: Training: 193it [01:23,  1.60it/s, train acc:  0.055,train loss:  2.399]  "
     ]
    },
    {
     "name": "stdout",
     "output_type": "stream",
     "text": [
      "Not a better score\n"
     ]
    },
    {
     "name": "stderr",
     "output_type": "stream",
     "text": [
      "Epoch 193,phase: Training: 194it [01:24,  1.59it/s, train acc:  0.036,train loss:  2.398]  "
     ]
    },
    {
     "name": "stdout",
     "output_type": "stream",
     "text": [
      "Not a better score\n"
     ]
    },
    {
     "name": "stderr",
     "output_type": "stream",
     "text": [
      "Epoch 194,phase: Training: 195it [01:25,  1.49it/s, train acc:  0.036,train loss:  2.399]  "
     ]
    },
    {
     "name": "stdout",
     "output_type": "stream",
     "text": [
      "Not a better score\n"
     ]
    },
    {
     "name": "stderr",
     "output_type": "stream",
     "text": [
      "Epoch 195,phase: Training: 196it [01:25,  1.35it/s, train acc:  0.080,train loss:  2.399]  "
     ]
    },
    {
     "name": "stdout",
     "output_type": "stream",
     "text": [
      "Not a better score\n"
     ]
    },
    {
     "name": "stderr",
     "output_type": "stream",
     "text": [
      "Epoch 196,phase: Training: 197it [01:26,  1.40it/s, train acc:  0.062,train loss:  2.399]  "
     ]
    },
    {
     "name": "stdout",
     "output_type": "stream",
     "text": [
      "Not a better score\n"
     ]
    },
    {
     "name": "stderr",
     "output_type": "stream",
     "text": [
      "Epoch 197,phase: Training: 198it [01:27,  1.48it/s, train acc:  0.062,train loss:  2.398]  "
     ]
    },
    {
     "name": "stdout",
     "output_type": "stream",
     "text": [
      "Not a better score\n"
     ]
    },
    {
     "name": "stderr",
     "output_type": "stream",
     "text": [
      "Epoch 198,phase: Training: 199it [01:27,  1.53it/s, train acc:  0.097,train loss:  2.398]  "
     ]
    },
    {
     "name": "stdout",
     "output_type": "stream",
     "text": [
      "Not a better score\n"
     ]
    },
    {
     "name": "stderr",
     "output_type": "stream",
     "text": [
      "Epoch 199,phase: Training: 200it [01:28,  1.60it/s, train acc:  0.071,train loss:  2.398]  "
     ]
    },
    {
     "name": "stdout",
     "output_type": "stream",
     "text": [
      "Not a better score\n"
     ]
    },
    {
     "name": "stderr",
     "output_type": "stream",
     "text": [
      "Epoch 199,phase: Validation: 200it [01:28,  2.25it/s, val acc:  0.156,val loss:  2.397]    "
     ]
    },
    {
     "name": "stdout",
     "output_type": "stream",
     "text": [
      "Not a better score\n",
      "Training ended returning the best model\n",
      "Best val acc: 0.16483516483516483, Best val loss: 2.3968003590901694, Best train acc: 0.07777777777777778, Best train loss: 2.397966198299242 \n"
     ]
    },
    {
     "name": "stderr",
     "output_type": "stream",
     "text": [
      "\n"
     ]
    }
   ],
   "source": [
    "# create new model because the other model's params got updated.\n",
    "model_pooling = SimpleCNN(device=device,pooling=False)\n",
    "trainer_m_pooling = Trainer(model_pooling, criterion, train_loader, val_loader, optimizer, num_epoch=NUM_EPOCHS, patience=PATIENCE,batch_size=BATCH_SIZE,lr_scheduler= None)\n",
    "best_model_pooling = trainer_m_pooling.train()\n",
    "# Best val acc: 0.054945054945054944, Best val loss: 2.3989224831263223, Best train acc: 0.041666666666666664, Best train loss: 2.4011570267055347\n",
    "# Best val acc: 0.15384615384615385, Best val loss: 2.39505668481191, Best train acc: 0.11944444444444445, Best train loss: 2.3947692124739937\n",
    "# Best val acc: 0.03296703296703297, Best val loss: 2.399859070777893, Best train acc: 0.044444444444444446, Best train loss: 2.3989661154539688\n",
    "# Best val acc: 0.07692307692307693, Best val loss: 2.3962440888086953, Best train acc: 0.075, Best train loss: 2.397473718809045\n",
    "\n",
    "# pooling=False\n",
    "# Best val acc: 0.06593406593406594, Best val loss: 2.397407333056132, Best train acc: 0.08888888888888889, Best train loss: 2.3978021248527197\n",
    "# Best val acc: 0.14285714285714285, Best val loss: 2.397582252820333, Best train acc: 0.11388888888888889, Best train loss: 2.3991457172062085 "
   ]
  },
  {
   "cell_type": "markdown",
   "metadata": {},
   "source": [
    "**ANSWER**<br>\n",
    "Applying pooling reduces the spatial dimensions, helping the model to focus on the most important features. This also helps with avoiding overfitting as the number of parameters are decreased.<br><br>\n",
    "Without pooling:<br>\n",
    "Best val acc: 0.4835164835164835, Best val loss: 2.047486503918966, Best train acc: 0.6722222222222223, Best train loss: 1.8831380450207253<br><br>\n",
    "With max pooling:<br>\n",
    "Best val acc: 0.4945054945054945, Best val loss: 2.036665161450704, Best train acc: 0.8277777777777777, Best train loss: 1.718546924383744<br><br>\n",
    "The training accuracy improved significantly. There was also a slight improvement in the validation accuracy.<br>\n",
    "The model with max pooling has increased accuracy but struggles to generalize to unseen data."
   ]
  },
  {
   "cell_type": "markdown",
   "metadata": {},
   "source": [
    "### Part 1.4: Regularize Your Network!\n",
    "Because this is such a small dataset, your network is likely to overfit the data. Implement the following ways of regularizing your network. Test each one individually, and discuss how it affects your results.\n",
    "\n",
    "- __Dropout__: In PyTorch, this is implemented using the `torch.nn.dropout` class, which takes a value called the `keep_prob`, representing the probability that an activation will be dropped out. This value should be between 0.1 and 0.5 during training, and 0 for evaluation and testing. An example of how this works is available here. You should add this to your network and try different values to find one that works well.\n",
    "\n",
    "- __Weight Regularization__: You should try different optimizers, and different weight decay values for optimizers.\n",
    "\n",
    "- __Early Stopping__: Stop training your model after your validation accuracy starts to plateau or decrease (so you do not overtrain your model). The number of steps can be controlled through the `patience` hyperparameter in the code.\n",
    "\n",
    "- __Learning Rate Scheduling__: Learning rate scheduling is an important part of training neural networks. There are a lot of techniques for learning rate scheduling. You should try\n",
    "different schedulers such as `StepLR`, `CosineAnnealing`, etc.\n",
    "\n",
    "Give your results for each of these regularization techniques, and discuss which ones were the most effective."
   ]
  },
  {
   "cell_type": "markdown",
   "metadata": {},
   "source": [
    "**ANSWER**<br>\n",
    "Testing each individually:<br><br>\n",
    "Dropout (p=0.5) between the two fully connected layers:"
   ]
  },
  {
   "cell_type": "code",
   "execution_count": null,
   "metadata": {},
   "outputs": [],
   "source": [
    "# uncomment the dropout in forward function of the network declaration\n",
    "model_dropout = SimpleCNN(device=device,pooling=True)\n",
    "trainer_m_dropout = Trainer(model_dropout, criterion, train_loader, val_loader, optimizer, num_epoch=NUM_EPOCHS, patience=PATIENCE,batch_size=BATCH_SIZE,lr_scheduler= None)\n",
    "best_model_dropout = trainer_m_dropout.train()"
   ]
  },
  {
   "cell_type": "markdown",
   "metadata": {},
   "source": [
    "Even though the training accuracy is similar to no dropout, the validation accuracy increased significantly meaning that the model generalizes well to new data.<br>\n",
    "<br>\n",
    "Weight regularization:<br>\n",
    "(commenting out the dropout in CNN)\n",
    "\n",
    "\n"
   ]
  },
  {
   "cell_type": "code",
   "execution_count": null,
   "metadata": {},
   "outputs": [],
   "source": [
    "model_sgd = SimpleCNN(device=device,pooling=True)\n",
    "opt_sgd = torch.optim.SGD(model_sgd.parameters(), lr=LR, weight_decay=0.0005)\n",
    "trainer_m_sgd = Trainer(model_sgd, criterion, train_loader, val_loader, opt_sgd, num_epoch=NUM_EPOCHS, patience=PATIENCE,batch_size=BATCH_SIZE,lr_scheduler= None)\n",
    "best_model_sgd= trainer_m_sgd.train()"
   ]
  },
  {
   "cell_type": "code",
   "execution_count": null,
   "metadata": {},
   "outputs": [],
   "source": [
    "model_adam1 = SimpleCNN(device=device,pooling=True)\n",
    "opt_adam1 = torch.optim.Adam(model_adam1.parameters(), lr=LR, weight_decay=0.0005)\n",
    "trainer_m_adam1 = Trainer(model_adam1, criterion, train_loader, val_loader, opt_adam1, num_epoch=NUM_EPOCHS, patience=PATIENCE,batch_size=BATCH_SIZE,lr_scheduler= None)\n",
    "best_model_adam1= trainer_m_adam1.train()\n",
    "# Best val acc: 0.5054945054945055, Best val loss: 2.046719173590342, Best train acc: 0.6888888888888889, Best train loss: 1.8724546173344487\n",
    "# Best val acc: 0.5384615384615384, Best val loss: 1.9763936599095662, Best train acc: 0.7694444444444445, Best train loss: 1.7913675826528799 "
   ]
  },
  {
   "cell_type": "code",
   "execution_count": null,
   "metadata": {},
   "outputs": [],
   "source": [
    "model_adam2 = SimpleCNN(device=device,pooling=True)\n",
    "opt_adam2 = torch.optim.Adam(model_adam2.parameters(), lr=LR, weight_decay=0.01)\n",
    "trainer_m_adam2 = Trainer(model_adam2, criterion, train_loader, val_loader, opt_adam2, num_epoch=NUM_EPOCHS, patience=PATIENCE,batch_size=BATCH_SIZE,lr_scheduler= None)\n",
    "best_model_adam2= trainer_m_adam2.train()"
   ]
  },
  {
   "cell_type": "markdown",
   "metadata": {},
   "source": [
    "Weight regularization penalizes large weights to avoid strong dependancy on certain features thus prevent overfitting.<br>\n",
    "Best val acc: 0.5274725274725275, Best val loss: 2.022157371044159, Best train acc: 0.8472222222222222, Best train loss: 1.6982376005338586<br>\n",
    "With SGD as optimizer and weight_decay=0.0005, validation accuracy incerases from 0.516 to 0.527 when compared to no weight decay, therefore it is safe to say that the model generalizes better.<br>\n",
    "<br>\n",
    "Best val acc: 0.5384615384615384, Best val loss: 2.0050004720687866, Best train acc: 0.8944444444444445, Best train loss: 1.6490948096565579<br>\n",
    "With Adam as optimizer and weight_decay=0.005, validation accuracy increases further when compared to SGD, and reaches 0.538. I believe that this improvement is mainly caused by the adaptive learning rate of Adam, yielding a better convergence.<br>\n",
    "<br>\n",
    "Best val acc: 0.5384615384615384, Best val loss: 2.0050004720687866, Best train acc: 0.8944444444444445, Best train loss: 1.6490948096565579 <br>\n",
    "With Adam as optimizer and weight_decay=0.01, validation accuracy<br>\n",
    "<br>\n",
    "Early Stopping:<br>\n",
    "(without weight decay and dropout)"
   ]
  },
  {
   "cell_type": "code",
   "execution_count": null,
   "metadata": {},
   "outputs": [],
   "source": [
    "# es -> early stopping\n",
    "model_es = SimpleCNN(device=device,pooling=True)\n",
    "opt_es = torch.optim.Adam(model_es.parameters(), lr=LR)\n",
    "trainer_m_es = Trainer(model_es, criterion, train_loader, val_loader, opt_es, num_epoch=NUM_EPOCHS, patience=7,batch_size=BATCH_SIZE,lr_scheduler= None)\n",
    "best_model_es= trainer_m_es.train()"
   ]
  },
  {
   "cell_type": "markdown",
   "metadata": {},
   "source": [
    "bla bla bla<br>\n",
    "<br>\n",
    "Learning Rate Scheduling:<br>"
   ]
  },
  {
   "cell_type": "code",
   "execution_count": null,
   "metadata": {},
   "outputs": [],
   "source": [
    "model_lr1 = SimpleCNN(device=device,pooling=True)\n",
    "opt_lr1 = torch.optim.Adam(model_lr1.parameters(), lr=LR)\n",
    "scheduler1 = torch.optim.lr_scheduler.StepLR(opt_lr1, step_size=5, gamma=0.1)\n",
    "trainer_m_lr1 = Trainer(model_lr1, criterion, train_loader, val_loader, opt_lr1, num_epoch=NUM_EPOCHS, patience=7,batch_size=BATCH_SIZE,lr_scheduler= scheduler1)\n",
    "best_model_lr1= trainer_m_lr1.train()"
   ]
  },
  {
   "cell_type": "code",
   "execution_count": null,
   "metadata": {},
   "outputs": [],
   "source": [
    "model_lr2 = SimpleCNN(device=device,pooling=True)\n",
    "opt_lr2 = torch.optim.Adam(model_lr2.parameters(), lr=LR)\n",
    "scheduler2 =  torch.optim.lr_scheduler.ExponentialLR(opt_lr2, gamma=0.95)\n",
    "trainer_m_lr2 = Trainer(model_lr2, criterion, train_loader, val_loader, opt_lr2, num_epoch=NUM_EPOCHS, patience=7,batch_size=BATCH_SIZE,lr_scheduler= scheduler2)\n",
    "best_model_lr2= trainer_m_lr2.train()"
   ]
  },
  {
   "cell_type": "markdown",
   "metadata": {},
   "source": [
    "### Part 1.5: Experiment with Your Architecture\n",
    "\n",
    "All those parameters at the top of `SimpleCNN` still need to be set. You cannot possibly explore all combinations; so try to change some of them individually to get some feeling for their effect (if any).\n",
    "Optionally, you can explore adding more layers. Report which changes led to the biggest increases and decreases in performance. In particular, what is the effect of making the convolutional layers have (a) a larger filter size, (b) a larger stride and (c) greater depth? How does a pyramidal-shaped network in which the feature maps gradually decrease in height and width but increase in depth compare to a flat architecture, or one with the opposite shape?"
   ]
  },
  {
   "cell_type": "markdown",
   "metadata": {},
   "source": [
    "### Part 1.6: Optimize Your Architecture\n",
    "Based on your experience with these tests, try to achieve the best performance that you can on the validation set by varying the hyperparameters, architecture, and regularization methods. You can even (optionally) try to think of additional ways to augment the data, or experiment with techniques like local response normalization layers using `torch.nn.LocalResponseNorm` or weight normalization using the implementation [here](https://pytorch.org/docs/stable/_modules/torch/nn/utils/weight_norm.html#weight_norm). Report the best performance you are able to achieve, and the settings you used to obtain it."
   ]
  },
  {
   "cell_type": "markdown",
   "metadata": {},
   "source": [
    "### Part 1.7: Test Your Final Architecture on Variations of the Data\n",
    "In PyTorch data augmentation can be done dynamically while loading the data using what they call `transforms`. Note that some of the transforms are already implemented. You can\n",
    "try other transformations, such as the ones shown in Figure 3 and also try different probabilities for these transformations. You may find [this link](https://pytorch.org/vision/stable/transforms.html) helpful. Note that the PyTorch data loader refreshes the\n",
    "data in each epoch and apply different transformations to the different instances.\n",
    "\n",
    "Now that you have optimized your architecture, you are ready to test it on augmented data!\n",
    "Report your performance on each of the transformed datasets. Are you surprised by any of the results?\n",
    "Which transformations is your network most invariant to, and which lead it to be unable to recognize the images? What does that tell you about what features your network has learned to use to recognize artists’ images?"
   ]
  },
  {
   "cell_type": "markdown",
   "metadata": {},
   "source": [
    "## Part 2: Transfer Learning with Deep Network\n",
    "\n",
    "In this part, you will fine-tune AlexNet model pretrained on ImageNet to recognize faces. For the sake of simplicity you may use [the pretrained AlexNet model](https://pytorch.org/hub/pytorch_vision_alexnet/) provided in PyTorch Hub. You will\n",
    "work with a subset of the FaceScrub dataset. The subset of male actors is [here](http://www.cs.toronto.edu/~guerzhoy/321/proj1/subset_actors.txt) and the subset of female actors is [here](http://www.cs.toronto.edu/~guerzhoy/321/proj1/subset_actresses.txt). The dataset consists of URLs of images with faces, as well as the bounding boxes of the faces. The format of the bounding box is as follows (from the FaceScrub `readme.txt` file):\n",
    "\n",
    "` \n",
    "The format is x1,y1,x2,y2, where (x1,y1) is the coordinate of the top-left corner of the bounding box and (x2,y2) is that of the bottom-right corner, with (0,0) as the top-left corner of the image. Assuming the image is represented as a Python NumPy array I, a face\n",
    "in I can be obtained as I[y1:y2, x1:x2].\n",
    "`"
   ]
  },
  {
   "cell_type": "markdown",
   "metadata": {},
   "source": [
    "You may find it helpful to use and/or modify [this script](www.cs.toronto.edu/~guerzhoy/321/proj1/get_data.py) for downloading the image data. Note that you should crop out the images of the faces and resize them to appropriate size before proceeding further. Make sure to check the SHA-256 hashes, and make sure to only keep faces for which the hashes match. You should set aside 70 images per faces for the training set, and use the rest for the test and validation set."
   ]
  },
  {
   "cell_type": "markdown",
   "metadata": {},
   "source": [
    "### Part 2.1: Train a Multilayer Perceptron\n",
    "First resize the images to 28 × 28 pixels. Use a fully-connected neural network with a single hidden layer of size 300 units.\n",
    "Below, include the learning curve for the test, training, and validation sets, and the final performance classification on the test set. Include a text description of your system. In particular, describe how you preprocessed the input and initialized the weights, what activation function you used, and what the exact architecture of the network that you selected was. You might get performances close to 80-85% accuracy rate."
   ]
  },
  {
   "cell_type": "code",
   "execution_count": null,
   "metadata": {},
   "outputs": [],
   "source": []
  },
  {
   "cell_type": "markdown",
   "metadata": {},
   "source": [
    "### Part 2.2: AlexNet as a Fixed Feature Extractor\n",
    "Extract the values of the activations of AlexNet on the face images. Use those as features in order to perform face classification: learn a fully-connected neural network that takes in the activations of the units in the AlexNet layer as inputs, and outputs the name of the person. Below, include a description of the system you built and its performance. It is recommended to start out with only using the `conv4` activations. Using `conv4` is sufficient here."
   ]
  },
  {
   "cell_type": "markdown",
   "metadata": {},
   "source": [
    "### Part 2.3: Visualize Weights\n",
    "Train two networks the way you did in Part 2.1. Use 300 and 800 hidden units in the hidden layer. Visualize 2 different hidden features (neurons) for each of the two settings, and briefly explain why they are interesting. A sample visualization of a hidden feature is shown below. Note that you probably need to use L2 regularization while training to obtain nice weight visualizations.\n",
    "\n",
    "![](figures/figure2.jpg)"
   ]
  },
  {
   "cell_type": "markdown",
   "metadata": {},
   "source": [
    "### Part 2.4: Finetuning AlexNet\n",
    "Train two networks the way you did in Part 2.1. Use 300 and 800 hidden units in the hidden layer. Visualize 2 different hidden features (neurons) for each of the two settings, and briefly explain why they are interesting. A sample visualization of a hidden feature is shown in Figure 4. Note that you probably need to use L2 regularization while training to obtain nice weight visualizations."
   ]
  },
  {
   "cell_type": "markdown",
   "metadata": {},
   "source": [
    "### Part 2.5: Bonus: Gradient Visualization\n",
    "Here, you will use [Utku Ozbulak’s PyTorch CNN Visualizations Library](https://github.com/utkuozbulak/pytorch-cnn-visualizations/) to visualize the important parts of the input image for a particular output class. In particular, just select a specific picture of an actor, and then using your trained network in Part 2.4, perform Gradient visualization with guided backpropagation to understand the prediction for that actor with respect to the input image. Comment on your results."
   ]
  },
  {
   "cell_type": "markdown",
   "metadata": {},
   "source": [
    "## What to Turn In\n",
    "You have two options for submission:\n",
    "1) Provide all the relevant answers to questions, images, figures, etc, in this Jupyter notebook, convert the jupyter notebook into a PDF, and upload the PDF.\n",
    "2) Write all the answers to the questions and any relevant figures in a LaTeX report, convert the report to a PDF, and upload a zip file containing both the jupyter notebook and the report. \n",
    "\n",
    "## Grading\n",
    "The assignment will be graded out of `100` points: `0` (no submission), `20` (an attempt at a solution), `40` (a partially correct solution), `60` (a mostly correct solution), `80` (a correct solution), `100` (a particularly creative or insightful solution). The grading depends on both the content and clarity of your report."
   ]
  },
  {
   "cell_type": "markdown",
   "metadata": {},
   "source": []
  }
 ],
 "metadata": {
  "kernelspec": {
   "display_name": "Python 3 (ipykernel)",
   "language": "python",
   "name": "python3"
  },
  "language_info": {
   "codemirror_mode": {
    "name": "ipython",
    "version": 3
   },
   "file_extension": ".py",
   "mimetype": "text/x-python",
   "name": "python",
   "nbconvert_exporter": "python",
   "pygments_lexer": "ipython3",
   "version": "3.7.16"
  },
  "varInspector": {
   "cols": {
    "lenName": 16,
    "lenType": 16,
    "lenVar": 40
   },
   "kernels_config": {
    "python": {
     "delete_cmd_postfix": "",
     "delete_cmd_prefix": "del ",
     "library": "var_list.py",
     "varRefreshCmd": "print(var_dic_list())"
    },
    "r": {
     "delete_cmd_postfix": ") ",
     "delete_cmd_prefix": "rm(",
     "library": "var_list.r",
     "varRefreshCmd": "cat(var_dic_list()) "
    }
   },
   "types_to_exclude": [
    "module",
    "function",
    "builtin_function_or_method",
    "instance",
    "_Feature"
   ],
   "window_display": false
  }
 },
 "nbformat": 4,
 "nbformat_minor": 2
}
